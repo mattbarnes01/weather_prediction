{
 "cells": [
  {
   "cell_type": "code",
   "execution_count": 2,
   "id": "baa7de91-d03e-416a-a86c-58552c8a99fa",
   "metadata": {},
   "outputs": [],
   "source": [
    "import pandas as pd\n",
    "def walk_forward_validation(weather, model, predictors, start = 3650, step = 90):\n",
    "    predictions = []\n",
    "    for i in range(start, weather.shape[0], step):\n",
    "        train = weather.iloc[:i,:]\n",
    "        test = weather.iloc[i:(i+step),:]\n",
    "        model.fit(train[predictors], train['target'])\n",
    "        preds = pd.Series(model.predict(test[predictors]), index = test.index)\n",
    "        combined = pd.concat([test['target'], preds], axis = 1)\n",
    "        combined.columns = ['actual', 'predicted']\n",
    "        combined['absolute_error'] = (combined.actual - combined.predicted).abs()\n",
    "        predictions.append(combined)\n",
    "    return pd.concat(predictions) "
   ]
  },
  {
   "cell_type": "code",
   "execution_count": null,
   "id": "639611be-dbc2-45e5-910e-6fe89d3777da",
   "metadata": {},
   "outputs": [],
   "source": []
  }
 ],
 "metadata": {
  "kernelspec": {
   "display_name": "Python 3 (ipykernel)",
   "language": "python",
   "name": "python3"
  },
  "language_info": {
   "codemirror_mode": {
    "name": "ipython",
    "version": 3
   },
   "file_extension": ".py",
   "mimetype": "text/x-python",
   "name": "python",
   "nbconvert_exporter": "python",
   "pygments_lexer": "ipython3",
   "version": "3.10.6"
  }
 },
 "nbformat": 4,
 "nbformat_minor": 5
}
