{
 "cells": [
  {
   "cell_type": "code",
   "execution_count": 229,
   "id": "c32a57bd-df5d-4208-8304-0f853e927ef6",
   "metadata": {},
   "outputs": [
    {
     "name": "stdout",
     "output_type": "stream",
     "text": [
      "                STATION                          NAME   ACMH   ACSH  AWND  \\\n",
      "DATE                                                                        \n",
      "1975-01-01  USW00003927  DAL FTW WSCMO AIRPORT, TX US  100.0  100.0   NaN   \n",
      "1975-01-02  USW00003927  DAL FTW WSCMO AIRPORT, TX US   70.0  100.0   NaN   \n",
      "1975-01-03  USW00003927  DAL FTW WSCMO AIRPORT, TX US   20.0   30.0   NaN   \n",
      "1975-01-04  USW00003927  DAL FTW WSCMO AIRPORT, TX US    0.0    0.0   NaN   \n",
      "1975-01-05  USW00003927  DAL FTW WSCMO AIRPORT, TX US   10.0   10.0   NaN   \n",
      "\n",
      "            FMTM    PGTM  PRCP  PSUN  SNOW  ...  WT13  WT14  WT15  WT16  WT17  \\\n",
      "DATE                                        ...                                 \n",
      "1975-01-01   NaN   600.0  0.04   NaN   0.0  ...   NaN   NaN   NaN   1.0   NaN   \n",
      "1975-01-02   NaN     6.0  0.42   NaN   0.0  ...   NaN   NaN   NaN   1.0   NaN   \n",
      "1975-01-03   NaN   906.0  0.00   NaN   0.0  ...   NaN   NaN   NaN   NaN   NaN   \n",
      "1975-01-04   NaN  1230.0  0.00   NaN   0.0  ...   NaN   NaN   NaN   NaN   NaN   \n",
      "1975-01-05   NaN  1012.0  0.00   NaN   0.0  ...   NaN   NaN   NaN   NaN   NaN   \n",
      "\n",
      "            WT18  WT19  WT21  WT22  WV03  \n",
      "DATE                                      \n",
      "1975-01-01   NaN   NaN   NaN   NaN   NaN  \n",
      "1975-01-02   NaN   NaN   NaN   NaN   NaN  \n",
      "1975-01-03   NaN   NaN   NaN   NaN   NaN  \n",
      "1975-01-04   NaN   NaN   NaN   NaN   NaN  \n",
      "1975-01-05   NaN   NaN   NaN   NaN   NaN  \n",
      "\n",
      "[5 rows x 45 columns]\n"
     ]
    }
   ],
   "source": [
    "import pandas as pd\n",
    "import numpy as np\n",
    "# Read in our weather dataset for Fort Worth, with date as the index.\n",
    "weather = pd.read_csv('/Users/mattbarnes/Python_projects/Weather_prediction/Fort_Worth_weather_data.csv', index_col = 'DATE')\n",
    "print(weather.head())"
   ]
  },
  {
   "cell_type": "code",
   "execution_count": 230,
   "id": "e67ab6f8-6a5e-44ae-9b63-a482f962d21d",
   "metadata": {},
   "outputs": [
    {
     "name": "stdout",
     "output_type": "stream",
     "text": [
      "(rows, columns): (18159, 45)\n",
      "STATION    0.000000\n",
      "NAME       0.000000\n",
      "ACMH       0.579327\n",
      "ACSH       0.579327\n",
      "AWND       0.181288\n",
      "FMTM       0.441049\n",
      "PGTM       0.310810\n",
      "PRCP       0.000055\n",
      "PSUN       0.899444\n",
      "SNOW       0.000496\n",
      "SNWD       0.187510\n",
      "TAVG       0.622061\n",
      "TMAX       0.000055\n",
      "TMIN       0.000055\n",
      "TSUN       0.590451\n",
      "WDF1       0.579602\n",
      "WDF2       0.421003\n",
      "WDF5       0.422766\n",
      "WDFG       0.584228\n",
      "WESD       0.999009\n",
      "WSF1       0.579547\n",
      "WSF2       0.421003\n",
      "WSF5       0.422766\n",
      "WSFG       0.584063\n",
      "WT01       0.791894\n",
      "WT02       0.975274\n",
      "WT03       0.867724\n",
      "WT04       0.993557\n",
      "WT05       0.997136\n",
      "WT06       0.993392\n",
      "WT07       0.998293\n",
      "WT08       0.890578\n",
      "WT09       0.999670\n",
      "WT10       0.999945\n",
      "WT11       0.997522\n",
      "WT13       0.914423\n",
      "WT14       0.968996\n",
      "WT15       0.997962\n",
      "WT16       0.780770\n",
      "WT17       0.998073\n",
      "WT18       0.990253\n",
      "WT19       0.999504\n",
      "WT21       0.999780\n",
      "WT22       0.999670\n",
      "WV03       0.999890\n",
      "dtype: float64\n"
     ]
    }
   ],
   "source": [
    "# Calculate percentage of null values in each column.\n",
    "print(f'(rows, columns): {weather.shape}')\n",
    "percent_null = pd.isnull(weather).sum()/weather.shape[0] #check percentage of null values\n",
    "print(percent_null)"
   ]
  },
  {
   "cell_type": "code",
   "execution_count": 231,
   "id": "3077d47f-485e-4538-9ea3-6d68a5d3dc64",
   "metadata": {},
   "outputs": [
    {
     "name": "stdout",
     "output_type": "stream",
     "text": [
      "Index(['STATION', 'NAME', 'PRCP', 'SNOW', 'TMAX', 'TMIN'], dtype='object')\n"
     ]
    }
   ],
   "source": [
    "# Keep columns with 95% non-null values\n",
    "valid_features = weather.columns[percent_null <= 0.05] \n",
    "weather = weather[valid_features].copy()"
   ]
  },
  {
   "cell_type": "code",
   "execution_count": 232,
   "id": "57a26be7-eb62-4949-b863-1b1b6b248b45",
   "metadata": {},
   "outputs": [],
   "source": [
    "weather.columns = weather.columns.str.lower() # Improve column name format\n",
    "percent_null = pd.isnull(weather).sum()/weather.shape[0]\n",
    "print(percent_null) # Rechecking percent of null values"
   ]
  },
  {
   "cell_type": "code",
   "execution_count": 303,
   "id": "d8dd2bca-6251-4c67-8b31-f5524caba317",
   "metadata": {},
   "outputs": [
    {
     "name": "stdout",
     "output_type": "stream",
     "text": [
      "(18136, 16)\n",
      "station            0.0\n",
      "name               0.0\n",
      "prcp               0.0\n",
      "snow               0.0\n",
      "tmax               0.0\n",
      "tmin               0.0\n",
      "target             0.0\n",
      "rolling_3_tmax     0.0\n",
      "tmax_pct_change    0.0\n",
      "rolling_3_tmin     0.0\n",
      "tmin_pct_change    0.0\n",
      "rolling_3_prcp     0.0\n",
      "prcp_pct_change    0.0\n",
      "rolling_14_tmax    0.0\n",
      "rolling_14_tmin    0.0\n",
      "rolling_14_prcp    0.0\n",
      "dtype: float64\n"
     ]
    }
   ],
   "source": [
    "# Drop all null values from dataset\n",
    "weather = weather.dropna()\n",
    "percent_null = pd.isnull(weather).sum()/weather.shape[0]\n",
    "print(weather.shape)\n",
    "print(percent_null)  # Check how much data has been lost and if all null values have been removed"
   ]
  },
  {
   "cell_type": "code",
   "execution_count": 234,
   "id": "6b6cf6a1-76f4-467c-90ff-568c23ba93be",
   "metadata": {},
   "outputs": [
    {
     "data": {
      "text/plain": [
       "station     object\n",
       "name        object\n",
       "prcp       float64\n",
       "snow       float64\n",
       "tmax       float64\n",
       "tmin       float64\n",
       "dtype: object"
      ]
     },
     "execution_count": 234,
     "metadata": {},
     "output_type": "execute_result"
    }
   ],
   "source": [
    "# Check column data types\n",
    "weather.dtypes"
   ]
  },
  {
   "cell_type": "code",
   "execution_count": 235,
   "id": "786ca88a-9784-4bf2-83c3-c5f87074c9aa",
   "metadata": {},
   "outputs": [
    {
     "data": {
      "text/plain": [
       "Index(['1975-01-01', '1975-01-02', '1975-01-03', '1975-01-04', '1975-01-05',\n",
       "       '1975-01-06', '1975-01-07', '1975-01-08', '1975-01-09', '1975-01-10',\n",
       "       ...\n",
       "       '2024-09-08', '2024-09-09', '2024-09-10', '2024-09-11', '2024-09-12',\n",
       "       '2024-09-13', '2024-09-14', '2024-09-15', '2024-09-16', '2024-09-17'],\n",
       "      dtype='object', name='DATE', length=18150)"
      ]
     },
     "execution_count": 235,
     "metadata": {},
     "output_type": "execute_result"
    }
   ],
   "source": [
    "# Check index data type\n",
    "weather.index"
   ]
  },
  {
   "cell_type": "code",
   "execution_count": 236,
   "id": "11f90909-f0b4-40d1-a32c-c4852b0124cd",
   "metadata": {},
   "outputs": [
    {
     "data": {
      "text/plain": [
       "DatetimeIndex(['1975-01-01', '1975-01-02', '1975-01-03', '1975-01-04',\n",
       "               '1975-01-05', '1975-01-06', '1975-01-07', '1975-01-08',\n",
       "               '1975-01-09', '1975-01-10',\n",
       "               ...\n",
       "               '2024-09-08', '2024-09-09', '2024-09-10', '2024-09-11',\n",
       "               '2024-09-12', '2024-09-13', '2024-09-14', '2024-09-15',\n",
       "               '2024-09-16', '2024-09-17'],\n",
       "              dtype='datetime64[ns]', name='DATE', length=18150, freq=None)"
      ]
     },
     "execution_count": 236,
     "metadata": {},
     "output_type": "execute_result"
    }
   ],
   "source": [
    "# Change index data type from object to datetime\n",
    "weather.index = pd.to_datetime(weather.index)\n",
    "weather.index"
   ]
  },
  {
   "cell_type": "code",
   "execution_count": 237,
   "id": "e319c102-f891-4907-897c-2c7d02be530d",
   "metadata": {},
   "outputs": [
    {
     "data": {
      "text/plain": [
       "DATE\n",
       "1975    365\n",
       "1976    366\n",
       "1977    365\n",
       "1978    365\n",
       "1979    365\n",
       "1980    366\n",
       "1981    365\n",
       "1982    365\n",
       "1983    365\n",
       "1984    366\n",
       "1985    365\n",
       "1986    365\n",
       "1987    365\n",
       "1988    366\n",
       "1989    365\n",
       "1990    365\n",
       "1991    365\n",
       "1992    366\n",
       "1993    365\n",
       "1994    365\n",
       "1995    365\n",
       "1996    362\n",
       "1997    364\n",
       "1998    365\n",
       "1999    365\n",
       "2000    364\n",
       "2001    364\n",
       "2002    365\n",
       "2003    365\n",
       "2004    366\n",
       "2005    365\n",
       "2006    365\n",
       "2007    365\n",
       "2008    366\n",
       "2009    365\n",
       "2010    365\n",
       "2011    365\n",
       "2012    366\n",
       "2013    365\n",
       "2014    365\n",
       "2015    365\n",
       "2016    366\n",
       "2017    365\n",
       "2018    365\n",
       "2019    365\n",
       "2020    366\n",
       "2021    365\n",
       "2022    365\n",
       "2023    365\n",
       "2024    261\n",
       "Name: count, dtype: int64"
      ]
     },
     "execution_count": 237,
     "metadata": {},
     "output_type": "execute_result"
    }
   ],
   "source": [
    "weather.index.year.value_counts().sort_index() # Check for gaps in data"
   ]
  },
  {
   "cell_type": "code",
   "execution_count": 238,
   "id": "319c94ee-96c4-41a9-acb4-0859272051e4",
   "metadata": {},
   "outputs": [
    {
     "data": {
      "text/html": [
       "<div>\n",
       "<style scoped>\n",
       "    .dataframe tbody tr th:only-of-type {\n",
       "        vertical-align: middle;\n",
       "    }\n",
       "\n",
       "    .dataframe tbody tr th {\n",
       "        vertical-align: top;\n",
       "    }\n",
       "\n",
       "    .dataframe thead th {\n",
       "        text-align: right;\n",
       "    }\n",
       "</style>\n",
       "<table border=\"1\" class=\"dataframe\">\n",
       "  <thead>\n",
       "    <tr style=\"text-align: right;\">\n",
       "      <th></th>\n",
       "      <th>station</th>\n",
       "      <th>name</th>\n",
       "      <th>prcp</th>\n",
       "      <th>snow</th>\n",
       "      <th>tmax</th>\n",
       "      <th>tmin</th>\n",
       "      <th>target</th>\n",
       "    </tr>\n",
       "    <tr>\n",
       "      <th>DATE</th>\n",
       "      <th></th>\n",
       "      <th></th>\n",
       "      <th></th>\n",
       "      <th></th>\n",
       "      <th></th>\n",
       "      <th></th>\n",
       "      <th></th>\n",
       "    </tr>\n",
       "  </thead>\n",
       "  <tbody>\n",
       "    <tr>\n",
       "      <th>1975-01-01</th>\n",
       "      <td>USW00003927</td>\n",
       "      <td>DAL FTW WSCMO AIRPORT, TX US</td>\n",
       "      <td>0.04</td>\n",
       "      <td>0.0</td>\n",
       "      <td>45.0</td>\n",
       "      <td>40.0</td>\n",
       "      <td>47.0</td>\n",
       "    </tr>\n",
       "    <tr>\n",
       "      <th>1975-01-02</th>\n",
       "      <td>USW00003927</td>\n",
       "      <td>DAL FTW WSCMO AIRPORT, TX US</td>\n",
       "      <td>0.42</td>\n",
       "      <td>0.0</td>\n",
       "      <td>47.0</td>\n",
       "      <td>40.0</td>\n",
       "      <td>50.0</td>\n",
       "    </tr>\n",
       "    <tr>\n",
       "      <th>1975-01-03</th>\n",
       "      <td>USW00003927</td>\n",
       "      <td>DAL FTW WSCMO AIRPORT, TX US</td>\n",
       "      <td>0.00</td>\n",
       "      <td>0.0</td>\n",
       "      <td>50.0</td>\n",
       "      <td>37.0</td>\n",
       "      <td>56.0</td>\n",
       "    </tr>\n",
       "    <tr>\n",
       "      <th>1975-01-04</th>\n",
       "      <td>USW00003927</td>\n",
       "      <td>DAL FTW WSCMO AIRPORT, TX US</td>\n",
       "      <td>0.00</td>\n",
       "      <td>0.0</td>\n",
       "      <td>56.0</td>\n",
       "      <td>29.0</td>\n",
       "      <td>60.0</td>\n",
       "    </tr>\n",
       "    <tr>\n",
       "      <th>1975-01-05</th>\n",
       "      <td>USW00003927</td>\n",
       "      <td>DAL FTW WSCMO AIRPORT, TX US</td>\n",
       "      <td>0.00</td>\n",
       "      <td>0.0</td>\n",
       "      <td>60.0</td>\n",
       "      <td>37.0</td>\n",
       "      <td>62.0</td>\n",
       "    </tr>\n",
       "    <tr>\n",
       "      <th>...</th>\n",
       "      <td>...</td>\n",
       "      <td>...</td>\n",
       "      <td>...</td>\n",
       "      <td>...</td>\n",
       "      <td>...</td>\n",
       "      <td>...</td>\n",
       "      <td>...</td>\n",
       "    </tr>\n",
       "    <tr>\n",
       "      <th>2024-09-13</th>\n",
       "      <td>USW00003927</td>\n",
       "      <td>DAL FTW WSCMO AIRPORT, TX US</td>\n",
       "      <td>0.00</td>\n",
       "      <td>0.0</td>\n",
       "      <td>92.0</td>\n",
       "      <td>70.0</td>\n",
       "      <td>93.0</td>\n",
       "    </tr>\n",
       "    <tr>\n",
       "      <th>2024-09-14</th>\n",
       "      <td>USW00003927</td>\n",
       "      <td>DAL FTW WSCMO AIRPORT, TX US</td>\n",
       "      <td>0.00</td>\n",
       "      <td>0.0</td>\n",
       "      <td>93.0</td>\n",
       "      <td>75.0</td>\n",
       "      <td>92.0</td>\n",
       "    </tr>\n",
       "    <tr>\n",
       "      <th>2024-09-15</th>\n",
       "      <td>USW00003927</td>\n",
       "      <td>DAL FTW WSCMO AIRPORT, TX US</td>\n",
       "      <td>0.00</td>\n",
       "      <td>0.0</td>\n",
       "      <td>92.0</td>\n",
       "      <td>74.0</td>\n",
       "      <td>91.0</td>\n",
       "    </tr>\n",
       "    <tr>\n",
       "      <th>2024-09-16</th>\n",
       "      <td>USW00003927</td>\n",
       "      <td>DAL FTW WSCMO AIRPORT, TX US</td>\n",
       "      <td>0.00</td>\n",
       "      <td>0.0</td>\n",
       "      <td>91.0</td>\n",
       "      <td>72.0</td>\n",
       "      <td>89.0</td>\n",
       "    </tr>\n",
       "    <tr>\n",
       "      <th>2024-09-17</th>\n",
       "      <td>USW00003927</td>\n",
       "      <td>DAL FTW WSCMO AIRPORT, TX US</td>\n",
       "      <td>0.00</td>\n",
       "      <td>0.0</td>\n",
       "      <td>89.0</td>\n",
       "      <td>73.0</td>\n",
       "      <td>89.0</td>\n",
       "    </tr>\n",
       "  </tbody>\n",
       "</table>\n",
       "<p>18150 rows × 7 columns</p>\n",
       "</div>"
      ],
      "text/plain": [
       "                station                          name  prcp  snow  tmax  tmin  \\\n",
       "DATE                                                                            \n",
       "1975-01-01  USW00003927  DAL FTW WSCMO AIRPORT, TX US  0.04   0.0  45.0  40.0   \n",
       "1975-01-02  USW00003927  DAL FTW WSCMO AIRPORT, TX US  0.42   0.0  47.0  40.0   \n",
       "1975-01-03  USW00003927  DAL FTW WSCMO AIRPORT, TX US  0.00   0.0  50.0  37.0   \n",
       "1975-01-04  USW00003927  DAL FTW WSCMO AIRPORT, TX US  0.00   0.0  56.0  29.0   \n",
       "1975-01-05  USW00003927  DAL FTW WSCMO AIRPORT, TX US  0.00   0.0  60.0  37.0   \n",
       "...                 ...                           ...   ...   ...   ...   ...   \n",
       "2024-09-13  USW00003927  DAL FTW WSCMO AIRPORT, TX US  0.00   0.0  92.0  70.0   \n",
       "2024-09-14  USW00003927  DAL FTW WSCMO AIRPORT, TX US  0.00   0.0  93.0  75.0   \n",
       "2024-09-15  USW00003927  DAL FTW WSCMO AIRPORT, TX US  0.00   0.0  92.0  74.0   \n",
       "2024-09-16  USW00003927  DAL FTW WSCMO AIRPORT, TX US  0.00   0.0  91.0  72.0   \n",
       "2024-09-17  USW00003927  DAL FTW WSCMO AIRPORT, TX US  0.00   0.0  89.0  73.0   \n",
       "\n",
       "            target  \n",
       "DATE                \n",
       "1975-01-01    47.0  \n",
       "1975-01-02    50.0  \n",
       "1975-01-03    56.0  \n",
       "1975-01-04    60.0  \n",
       "1975-01-05    62.0  \n",
       "...            ...  \n",
       "2024-09-13    93.0  \n",
       "2024-09-14    92.0  \n",
       "2024-09-15    91.0  \n",
       "2024-09-16    89.0  \n",
       "2024-09-17    89.0  \n",
       "\n",
       "[18150 rows x 7 columns]"
      ]
     },
     "execution_count": 238,
     "metadata": {},
     "output_type": "execute_result"
    }
   ],
   "source": [
    "# Create a target column of tomorrow's tmax.\n",
    "weather['target'] = weather.shift(-1)['tmax']\n",
    "weather = weather.ffill() # fill the last row's NaN value\n",
    "weather"
   ]
  },
  {
   "cell_type": "code",
   "execution_count": 239,
   "id": "85a7a605-8bd7-4fd0-8e93-458a91695c88",
   "metadata": {},
   "outputs": [
    {
     "data": {
      "image/png": "[encoded data removed]",
      "text/plain": [
       "<Figure size 640x480 with 2 Axes>"
      ]
     },
     "metadata": {},
     "output_type": "display_data"
    }
   ],
   "source": [
    "# Inspect covariance of features\n",
    "import seaborn as sns\n",
    "import matplotlib.pyplot as plt\n",
    "sns.heatmap(weather.corr(numeric_only = True), cmap = 'hot')\n",
    "plt.show()\n",
    "plt.close()"
   ]
  },
  {
   "cell_type": "code",
   "execution_count": 240,
   "id": "b197c9e7-599d-4987-b5b4-2c4f3d74e93c",
   "metadata": {},
   "outputs": [
    {
     "data": {
      "image/png": "[encoded data removed]",
      "text/plain": [
       "<Figure size 640x480 with 1 Axes>"
      ]
     },
     "metadata": {},
     "output_type": "display_data"
    },
    {
     "data": {
      "image/png": "[encoded data removed]",
      "text/plain": [
       "<Figure size 640x480 with 1 Axes>"
      ]
     },
     "metadata": {},
     "output_type": "display_data"
    },
    {
     "data": {
      "image/png": "[encoded data removed]",
      "text/plain": [
       "<Figure size 640x480 with 1 Axes>"
      ]
     },
     "metadata": {},
     "output_type": "display_data"
    },
    {
     "data": {
      "image/png": "[encoded data removed]",
      "text/plain": [
       "<Figure size 640x480 with 1 Axes>"
      ]
     },
     "metadata": {},
     "output_type": "display_data"
    }
   ],
   "source": [
    "# Inspect feature distribution\n",
    "for ft in weather.columns[~weather.columns.isin(['name', 'station', 'target'])]:\n",
    "    \n",
    "    sns.histplot(weather, x = ft)\n",
    "    plt.show()\n",
    "    plt.close()"
   ]
  },
  {
   "cell_type": "code",
   "execution_count": 241,
   "id": "45063a8b-ed1d-43b8-a69e-4cefe4f93a99",
   "metadata": {},
   "outputs": [],
   "source": [
    "# We have covariance between features, and we dont want to drop any features so we will use Ridge regression\n",
    "# Train ML model\n",
    "from sklearn.linear_model import Ridge\n",
    "model = Ridge(alpha = 8) "
   ]
  },
  {
   "cell_type": "code",
   "execution_count": 242,
   "id": "78744575-086e-46f7-ae65-6da1a83ab0b2",
   "metadata": {},
   "outputs": [
    {
     "data": {
      "text/html": [
       "<div>\n",
       "<style scoped>\n",
       "    .dataframe tbody tr th:only-of-type {\n",
       "        vertical-align: middle;\n",
       "    }\n",
       "\n",
       "    .dataframe tbody tr th {\n",
       "        vertical-align: top;\n",
       "    }\n",
       "\n",
       "    .dataframe thead th {\n",
       "        text-align: right;\n",
       "    }\n",
       "</style>\n",
       "<table border=\"1\" class=\"dataframe\">\n",
       "  <thead>\n",
       "    <tr style=\"text-align: right;\">\n",
       "      <th></th>\n",
       "      <th>prcp</th>\n",
       "      <th>snow</th>\n",
       "      <th>tmax</th>\n",
       "      <th>tmin</th>\n",
       "    </tr>\n",
       "    <tr>\n",
       "      <th>DATE</th>\n",
       "      <th></th>\n",
       "      <th></th>\n",
       "      <th></th>\n",
       "      <th></th>\n",
       "    </tr>\n",
       "  </thead>\n",
       "  <tbody>\n",
       "    <tr>\n",
       "      <th>1975-01-01</th>\n",
       "      <td>0.04</td>\n",
       "      <td>0.0</td>\n",
       "      <td>45.0</td>\n",
       "      <td>40.0</td>\n",
       "    </tr>\n",
       "    <tr>\n",
       "      <th>1975-01-02</th>\n",
       "      <td>0.42</td>\n",
       "      <td>0.0</td>\n",
       "      <td>47.0</td>\n",
       "      <td>40.0</td>\n",
       "    </tr>\n",
       "    <tr>\n",
       "      <th>1975-01-03</th>\n",
       "      <td>0.00</td>\n",
       "      <td>0.0</td>\n",
       "      <td>50.0</td>\n",
       "      <td>37.0</td>\n",
       "    </tr>\n",
       "    <tr>\n",
       "      <th>1975-01-04</th>\n",
       "      <td>0.00</td>\n",
       "      <td>0.0</td>\n",
       "      <td>56.0</td>\n",
       "      <td>29.0</td>\n",
       "    </tr>\n",
       "    <tr>\n",
       "      <th>1975-01-05</th>\n",
       "      <td>0.00</td>\n",
       "      <td>0.0</td>\n",
       "      <td>60.0</td>\n",
       "      <td>37.0</td>\n",
       "    </tr>\n",
       "    <tr>\n",
       "      <th>...</th>\n",
       "      <td>...</td>\n",
       "      <td>...</td>\n",
       "      <td>...</td>\n",
       "      <td>...</td>\n",
       "    </tr>\n",
       "    <tr>\n",
       "      <th>2024-09-13</th>\n",
       "      <td>0.00</td>\n",
       "      <td>0.0</td>\n",
       "      <td>92.0</td>\n",
       "      <td>70.0</td>\n",
       "    </tr>\n",
       "    <tr>\n",
       "      <th>2024-09-14</th>\n",
       "      <td>0.00</td>\n",
       "      <td>0.0</td>\n",
       "      <td>93.0</td>\n",
       "      <td>75.0</td>\n",
       "    </tr>\n",
       "    <tr>\n",
       "      <th>2024-09-15</th>\n",
       "      <td>0.00</td>\n",
       "      <td>0.0</td>\n",
       "      <td>92.0</td>\n",
       "      <td>74.0</td>\n",
       "    </tr>\n",
       "    <tr>\n",
       "      <th>2024-09-16</th>\n",
       "      <td>0.00</td>\n",
       "      <td>0.0</td>\n",
       "      <td>91.0</td>\n",
       "      <td>72.0</td>\n",
       "    </tr>\n",
       "    <tr>\n",
       "      <th>2024-09-17</th>\n",
       "      <td>0.00</td>\n",
       "      <td>0.0</td>\n",
       "      <td>89.0</td>\n",
       "      <td>73.0</td>\n",
       "    </tr>\n",
       "  </tbody>\n",
       "</table>\n",
       "<p>18150 rows × 4 columns</p>\n",
       "</div>"
      ],
      "text/plain": [
       "            prcp  snow  tmax  tmin\n",
       "DATE                              \n",
       "1975-01-01  0.04   0.0  45.0  40.0\n",
       "1975-01-02  0.42   0.0  47.0  40.0\n",
       "1975-01-03  0.00   0.0  50.0  37.0\n",
       "1975-01-04  0.00   0.0  56.0  29.0\n",
       "1975-01-05  0.00   0.0  60.0  37.0\n",
       "...          ...   ...   ...   ...\n",
       "2024-09-13  0.00   0.0  92.0  70.0\n",
       "2024-09-14  0.00   0.0  93.0  75.0\n",
       "2024-09-15  0.00   0.0  92.0  74.0\n",
       "2024-09-16  0.00   0.0  91.0  72.0\n",
       "2024-09-17  0.00   0.0  89.0  73.0\n",
       "\n",
       "[18150 rows x 4 columns]"
      ]
     },
     "execution_count": 242,
     "metadata": {},
     "output_type": "execute_result"
    }
   ],
   "source": [
    "# Create predictors and targets\n",
    "predictors = weather.columns[~weather.columns.isin(['target', 'name', 'station'])]\n",
    "weather[predictors]\n"
   ]
  },
  {
   "cell_type": "code",
   "execution_count": 243,
   "id": "994a558a-7971-496b-970a-d1ee1079ba7d",
   "metadata": {},
   "outputs": [],
   "source": [
    "# Cross validation for time-series data\n",
    "def walk_forward_validation(weather, model, predictors, start = 3650, step = 90):\n",
    "    predictions = []\n",
    "    for i in range(start, weather.shape[0], step):\n",
    "        train = weather.iloc[:i,:]\n",
    "        test = weather.iloc[i:(i+step),:]\n",
    "        model.fit(train[predictors], train['target'])\n",
    "        preds = pd.Series(model.predict(test[predictors]), index = test.index)\n",
    "        combined = pd.concat([test['target'], preds], axis = 1)\n",
    "        combined.columns = ['actual', 'predicted']\n",
    "        combined['absolute_error'] = (combined.actual - combined.predicted).abs()\n",
    "        predictions.append(combined)\n",
    "    return pd.concat(predictions)   "
   ]
  },
  {
   "cell_type": "code",
   "execution_count": 244,
   "id": "ff335032-7119-48de-9ed1-53ffc910d596",
   "metadata": {},
   "outputs": [],
   "source": [
    "# Make predictions\n",
    "predictions = walk_forward_validation(weather, model, predictors)"
   ]
  },
  {
   "cell_type": "code",
   "execution_count": 245,
   "id": "9c16288d-2bae-4504-a7d3-cfad6df028aa",
   "metadata": {},
   "outputs": [
    {
     "data": {
      "text/plain": [
       "5.313791419010984"
      ]
     },
     "execution_count": 245,
     "metadata": {},
     "output_type": "execute_result"
    }
   ],
   "source": [
    "# Get MAE of predictions\n",
    "from sklearn.metrics import mean_absolute_error\n",
    "mean_absolute_error(predictions.actual, predictions.predicted)"
   ]
  },
  {
   "cell_type": "code",
   "execution_count": 246,
   "id": "c34c4558-2bd8-4588-98d2-bb384cd2b197",
   "metadata": {},
   "outputs": [
    {
     "data": {
      "text/html": [
       "<div>\n",
       "<style scoped>\n",
       "    .dataframe tbody tr th:only-of-type {\n",
       "        vertical-align: middle;\n",
       "    }\n",
       "\n",
       "    .dataframe tbody tr th {\n",
       "        vertical-align: top;\n",
       "    }\n",
       "\n",
       "    .dataframe thead th {\n",
       "        text-align: right;\n",
       "    }\n",
       "</style>\n",
       "<table border=\"1\" class=\"dataframe\">\n",
       "  <thead>\n",
       "    <tr style=\"text-align: right;\">\n",
       "      <th></th>\n",
       "      <th>station</th>\n",
       "      <th>name</th>\n",
       "      <th>prcp</th>\n",
       "      <th>snow</th>\n",
       "      <th>tmax</th>\n",
       "      <th>tmin</th>\n",
       "      <th>target</th>\n",
       "      <th>rolling_3_tmax</th>\n",
       "      <th>tmax_pct_change</th>\n",
       "      <th>rolling_3_tmin</th>\n",
       "      <th>tmin_pct_change</th>\n",
       "      <th>rolling_3_prcp</th>\n",
       "      <th>prcp_pct_change</th>\n",
       "      <th>rolling_14_tmax</th>\n",
       "      <th>rolling_14_tmin</th>\n",
       "      <th>rolling_14_prcp</th>\n",
       "    </tr>\n",
       "    <tr>\n",
       "      <th>DATE</th>\n",
       "      <th></th>\n",
       "      <th></th>\n",
       "      <th></th>\n",
       "      <th></th>\n",
       "      <th></th>\n",
       "      <th></th>\n",
       "      <th></th>\n",
       "      <th></th>\n",
       "      <th></th>\n",
       "      <th></th>\n",
       "      <th></th>\n",
       "      <th></th>\n",
       "      <th></th>\n",
       "      <th></th>\n",
       "      <th></th>\n",
       "      <th></th>\n",
       "    </tr>\n",
       "  </thead>\n",
       "  <tbody>\n",
       "    <tr>\n",
       "      <th>1975-01-01</th>\n",
       "      <td>USW00003927</td>\n",
       "      <td>DAL FTW WSCMO AIRPORT, TX US</td>\n",
       "      <td>0.04</td>\n",
       "      <td>0.0</td>\n",
       "      <td>45.0</td>\n",
       "      <td>40.0</td>\n",
       "      <td>47.0</td>\n",
       "      <td>NaN</td>\n",
       "      <td>NaN</td>\n",
       "      <td>NaN</td>\n",
       "      <td>NaN</td>\n",
       "      <td>NaN</td>\n",
       "      <td>NaN</td>\n",
       "      <td>NaN</td>\n",
       "      <td>NaN</td>\n",
       "      <td>NaN</td>\n",
       "    </tr>\n",
       "    <tr>\n",
       "      <th>1975-01-02</th>\n",
       "      <td>USW00003927</td>\n",
       "      <td>DAL FTW WSCMO AIRPORT, TX US</td>\n",
       "      <td>0.42</td>\n",
       "      <td>0.0</td>\n",
       "      <td>47.0</td>\n",
       "      <td>40.0</td>\n",
       "      <td>50.0</td>\n",
       "      <td>NaN</td>\n",
       "      <td>NaN</td>\n",
       "      <td>NaN</td>\n",
       "      <td>NaN</td>\n",
       "      <td>NaN</td>\n",
       "      <td>NaN</td>\n",
       "      <td>NaN</td>\n",
       "      <td>NaN</td>\n",
       "      <td>NaN</td>\n",
       "    </tr>\n",
       "    <tr>\n",
       "      <th>1975-01-03</th>\n",
       "      <td>USW00003927</td>\n",
       "      <td>DAL FTW WSCMO AIRPORT, TX US</td>\n",
       "      <td>0.00</td>\n",
       "      <td>0.0</td>\n",
       "      <td>50.0</td>\n",
       "      <td>37.0</td>\n",
       "      <td>56.0</td>\n",
       "      <td>47.333333</td>\n",
       "      <td>NaN</td>\n",
       "      <td>39.000000</td>\n",
       "      <td>NaN</td>\n",
       "      <td>0.153333</td>\n",
       "      <td>NaN</td>\n",
       "      <td>NaN</td>\n",
       "      <td>NaN</td>\n",
       "      <td>NaN</td>\n",
       "    </tr>\n",
       "    <tr>\n",
       "      <th>1975-01-04</th>\n",
       "      <td>USW00003927</td>\n",
       "      <td>DAL FTW WSCMO AIRPORT, TX US</td>\n",
       "      <td>0.00</td>\n",
       "      <td>0.0</td>\n",
       "      <td>56.0</td>\n",
       "      <td>29.0</td>\n",
       "      <td>60.0</td>\n",
       "      <td>51.000000</td>\n",
       "      <td>NaN</td>\n",
       "      <td>35.333333</td>\n",
       "      <td>NaN</td>\n",
       "      <td>0.140000</td>\n",
       "      <td>NaN</td>\n",
       "      <td>NaN</td>\n",
       "      <td>NaN</td>\n",
       "      <td>NaN</td>\n",
       "    </tr>\n",
       "    <tr>\n",
       "      <th>1975-01-05</th>\n",
       "      <td>USW00003927</td>\n",
       "      <td>DAL FTW WSCMO AIRPORT, TX US</td>\n",
       "      <td>0.00</td>\n",
       "      <td>0.0</td>\n",
       "      <td>60.0</td>\n",
       "      <td>37.0</td>\n",
       "      <td>62.0</td>\n",
       "      <td>55.333333</td>\n",
       "      <td>NaN</td>\n",
       "      <td>34.333333</td>\n",
       "      <td>NaN</td>\n",
       "      <td>0.000000</td>\n",
       "      <td>NaN</td>\n",
       "      <td>NaN</td>\n",
       "      <td>NaN</td>\n",
       "      <td>NaN</td>\n",
       "    </tr>\n",
       "    <tr>\n",
       "      <th>1975-01-06</th>\n",
       "      <td>USW00003927</td>\n",
       "      <td>DAL FTW WSCMO AIRPORT, TX US</td>\n",
       "      <td>0.00</td>\n",
       "      <td>0.0</td>\n",
       "      <td>62.0</td>\n",
       "      <td>34.0</td>\n",
       "      <td>74.0</td>\n",
       "      <td>59.333333</td>\n",
       "      <td>NaN</td>\n",
       "      <td>33.333333</td>\n",
       "      <td>NaN</td>\n",
       "      <td>0.000000</td>\n",
       "      <td>NaN</td>\n",
       "      <td>NaN</td>\n",
       "      <td>NaN</td>\n",
       "      <td>NaN</td>\n",
       "    </tr>\n",
       "    <tr>\n",
       "      <th>1975-01-07</th>\n",
       "      <td>USW00003927</td>\n",
       "      <td>DAL FTW WSCMO AIRPORT, TX US</td>\n",
       "      <td>0.00</td>\n",
       "      <td>0.0</td>\n",
       "      <td>74.0</td>\n",
       "      <td>45.0</td>\n",
       "      <td>62.0</td>\n",
       "      <td>65.333333</td>\n",
       "      <td>NaN</td>\n",
       "      <td>38.666667</td>\n",
       "      <td>NaN</td>\n",
       "      <td>0.000000</td>\n",
       "      <td>NaN</td>\n",
       "      <td>NaN</td>\n",
       "      <td>NaN</td>\n",
       "      <td>NaN</td>\n",
       "    </tr>\n",
       "    <tr>\n",
       "      <th>1975-01-08</th>\n",
       "      <td>USW00003927</td>\n",
       "      <td>DAL FTW WSCMO AIRPORT, TX US</td>\n",
       "      <td>0.00</td>\n",
       "      <td>0.0</td>\n",
       "      <td>62.0</td>\n",
       "      <td>46.0</td>\n",
       "      <td>71.0</td>\n",
       "      <td>66.000000</td>\n",
       "      <td>NaN</td>\n",
       "      <td>41.666667</td>\n",
       "      <td>NaN</td>\n",
       "      <td>0.000000</td>\n",
       "      <td>NaN</td>\n",
       "      <td>NaN</td>\n",
       "      <td>NaN</td>\n",
       "      <td>NaN</td>\n",
       "    </tr>\n",
       "    <tr>\n",
       "      <th>1975-01-09</th>\n",
       "      <td>USW00003927</td>\n",
       "      <td>DAL FTW WSCMO AIRPORT, TX US</td>\n",
       "      <td>0.20</td>\n",
       "      <td>0.0</td>\n",
       "      <td>71.0</td>\n",
       "      <td>45.0</td>\n",
       "      <td>57.0</td>\n",
       "      <td>69.000000</td>\n",
       "      <td>NaN</td>\n",
       "      <td>45.333333</td>\n",
       "      <td>NaN</td>\n",
       "      <td>0.066667</td>\n",
       "      <td>NaN</td>\n",
       "      <td>NaN</td>\n",
       "      <td>NaN</td>\n",
       "      <td>NaN</td>\n",
       "    </tr>\n",
       "    <tr>\n",
       "      <th>1975-01-10</th>\n",
       "      <td>USW00003927</td>\n",
       "      <td>DAL FTW WSCMO AIRPORT, TX US</td>\n",
       "      <td>0.02</td>\n",
       "      <td>0.0</td>\n",
       "      <td>57.0</td>\n",
       "      <td>40.0</td>\n",
       "      <td>42.0</td>\n",
       "      <td>63.333333</td>\n",
       "      <td>NaN</td>\n",
       "      <td>43.666667</td>\n",
       "      <td>NaN</td>\n",
       "      <td>0.073333</td>\n",
       "      <td>NaN</td>\n",
       "      <td>NaN</td>\n",
       "      <td>NaN</td>\n",
       "      <td>NaN</td>\n",
       "    </tr>\n",
       "    <tr>\n",
       "      <th>1975-01-11</th>\n",
       "      <td>USW00003927</td>\n",
       "      <td>DAL FTW WSCMO AIRPORT, TX US</td>\n",
       "      <td>0.00</td>\n",
       "      <td>0.0</td>\n",
       "      <td>42.0</td>\n",
       "      <td>31.0</td>\n",
       "      <td>37.0</td>\n",
       "      <td>56.666667</td>\n",
       "      <td>NaN</td>\n",
       "      <td>38.666667</td>\n",
       "      <td>NaN</td>\n",
       "      <td>0.073333</td>\n",
       "      <td>NaN</td>\n",
       "      <td>NaN</td>\n",
       "      <td>NaN</td>\n",
       "      <td>NaN</td>\n",
       "    </tr>\n",
       "    <tr>\n",
       "      <th>1975-01-12</th>\n",
       "      <td>USW00003927</td>\n",
       "      <td>DAL FTW WSCMO AIRPORT, TX US</td>\n",
       "      <td>0.00</td>\n",
       "      <td>0.0</td>\n",
       "      <td>37.0</td>\n",
       "      <td>24.0</td>\n",
       "      <td>47.0</td>\n",
       "      <td>45.333333</td>\n",
       "      <td>NaN</td>\n",
       "      <td>31.666667</td>\n",
       "      <td>NaN</td>\n",
       "      <td>0.006667</td>\n",
       "      <td>NaN</td>\n",
       "      <td>NaN</td>\n",
       "      <td>NaN</td>\n",
       "      <td>NaN</td>\n",
       "    </tr>\n",
       "    <tr>\n",
       "      <th>1975-01-13</th>\n",
       "      <td>USW00003927</td>\n",
       "      <td>DAL FTW WSCMO AIRPORT, TX US</td>\n",
       "      <td>0.00</td>\n",
       "      <td>0.0</td>\n",
       "      <td>47.0</td>\n",
       "      <td>17.0</td>\n",
       "      <td>59.0</td>\n",
       "      <td>42.000000</td>\n",
       "      <td>NaN</td>\n",
       "      <td>24.000000</td>\n",
       "      <td>NaN</td>\n",
       "      <td>0.000000</td>\n",
       "      <td>NaN</td>\n",
       "      <td>NaN</td>\n",
       "      <td>NaN</td>\n",
       "      <td>NaN</td>\n",
       "    </tr>\n",
       "    <tr>\n",
       "      <th>1975-01-14</th>\n",
       "      <td>USW00003927</td>\n",
       "      <td>DAL FTW WSCMO AIRPORT, TX US</td>\n",
       "      <td>0.00</td>\n",
       "      <td>0.0</td>\n",
       "      <td>59.0</td>\n",
       "      <td>29.0</td>\n",
       "      <td>63.0</td>\n",
       "      <td>47.666667</td>\n",
       "      <td>0.074122</td>\n",
       "      <td>23.333333</td>\n",
       "      <td>-0.178138</td>\n",
       "      <td>0.000000</td>\n",
       "      <td>-1.0</td>\n",
       "      <td>54.928571</td>\n",
       "      <td>35.285714</td>\n",
       "      <td>0.048571</td>\n",
       "    </tr>\n",
       "    <tr>\n",
       "      <th>1975-01-15</th>\n",
       "      <td>USW00003927</td>\n",
       "      <td>DAL FTW WSCMO AIRPORT, TX US</td>\n",
       "      <td>0.00</td>\n",
       "      <td>0.0</td>\n",
       "      <td>63.0</td>\n",
       "      <td>31.0</td>\n",
       "      <td>54.0</td>\n",
       "      <td>56.333333</td>\n",
       "      <td>0.120712</td>\n",
       "      <td>25.666667</td>\n",
       "      <td>-0.105155</td>\n",
       "      <td>0.000000</td>\n",
       "      <td>-1.0</td>\n",
       "      <td>56.214286</td>\n",
       "      <td>34.642857</td>\n",
       "      <td>0.045714</td>\n",
       "    </tr>\n",
       "  </tbody>\n",
       "</table>\n",
       "</div>"
      ],
      "text/plain": [
       "                station                          name  prcp  snow  tmax  tmin  \\\n",
       "DATE                                                                            \n",
       "1975-01-01  USW00003927  DAL FTW WSCMO AIRPORT, TX US  0.04   0.0  45.0  40.0   \n",
       "1975-01-02  USW00003927  DAL FTW WSCMO AIRPORT, TX US  0.42   0.0  47.0  40.0   \n",
       "1975-01-03  USW00003927  DAL FTW WSCMO AIRPORT, TX US  0.00   0.0  50.0  37.0   \n",
       "1975-01-04  USW00003927  DAL FTW WSCMO AIRPORT, TX US  0.00   0.0  56.0  29.0   \n",
       "1975-01-05  USW00003927  DAL FTW WSCMO AIRPORT, TX US  0.00   0.0  60.0  37.0   \n",
       "1975-01-06  USW00003927  DAL FTW WSCMO AIRPORT, TX US  0.00   0.0  62.0  34.0   \n",
       "1975-01-07  USW00003927  DAL FTW WSCMO AIRPORT, TX US  0.00   0.0  74.0  45.0   \n",
       "1975-01-08  USW00003927  DAL FTW WSCMO AIRPORT, TX US  0.00   0.0  62.0  46.0   \n",
       "1975-01-09  USW00003927  DAL FTW WSCMO AIRPORT, TX US  0.20   0.0  71.0  45.0   \n",
       "1975-01-10  USW00003927  DAL FTW WSCMO AIRPORT, TX US  0.02   0.0  57.0  40.0   \n",
       "1975-01-11  USW00003927  DAL FTW WSCMO AIRPORT, TX US  0.00   0.0  42.0  31.0   \n",
       "1975-01-12  USW00003927  DAL FTW WSCMO AIRPORT, TX US  0.00   0.0  37.0  24.0   \n",
       "1975-01-13  USW00003927  DAL FTW WSCMO AIRPORT, TX US  0.00   0.0  47.0  17.0   \n",
       "1975-01-14  USW00003927  DAL FTW WSCMO AIRPORT, TX US  0.00   0.0  59.0  29.0   \n",
       "1975-01-15  USW00003927  DAL FTW WSCMO AIRPORT, TX US  0.00   0.0  63.0  31.0   \n",
       "\n",
       "            target  rolling_3_tmax  tmax_pct_change  rolling_3_tmin  \\\n",
       "DATE                                                                  \n",
       "1975-01-01    47.0             NaN              NaN             NaN   \n",
       "1975-01-02    50.0             NaN              NaN             NaN   \n",
       "1975-01-03    56.0       47.333333              NaN       39.000000   \n",
       "1975-01-04    60.0       51.000000              NaN       35.333333   \n",
       "1975-01-05    62.0       55.333333              NaN       34.333333   \n",
       "1975-01-06    74.0       59.333333              NaN       33.333333   \n",
       "1975-01-07    62.0       65.333333              NaN       38.666667   \n",
       "1975-01-08    71.0       66.000000              NaN       41.666667   \n",
       "1975-01-09    57.0       69.000000              NaN       45.333333   \n",
       "1975-01-10    42.0       63.333333              NaN       43.666667   \n",
       "1975-01-11    37.0       56.666667              NaN       38.666667   \n",
       "1975-01-12    47.0       45.333333              NaN       31.666667   \n",
       "1975-01-13    59.0       42.000000              NaN       24.000000   \n",
       "1975-01-14    63.0       47.666667         0.074122       23.333333   \n",
       "1975-01-15    54.0       56.333333         0.120712       25.666667   \n",
       "\n",
       "            tmin_pct_change  rolling_3_prcp  prcp_pct_change  rolling_14_tmax  \\\n",
       "DATE                                                                            \n",
       "1975-01-01              NaN             NaN              NaN              NaN   \n",
       "1975-01-02              NaN             NaN              NaN              NaN   \n",
       "1975-01-03              NaN        0.153333              NaN              NaN   \n",
       "1975-01-04              NaN        0.140000              NaN              NaN   \n",
       "1975-01-05              NaN        0.000000              NaN              NaN   \n",
       "1975-01-06              NaN        0.000000              NaN              NaN   \n",
       "1975-01-07              NaN        0.000000              NaN              NaN   \n",
       "1975-01-08              NaN        0.000000              NaN              NaN   \n",
       "1975-01-09              NaN        0.066667              NaN              NaN   \n",
       "1975-01-10              NaN        0.073333              NaN              NaN   \n",
       "1975-01-11              NaN        0.073333              NaN              NaN   \n",
       "1975-01-12              NaN        0.006667              NaN              NaN   \n",
       "1975-01-13              NaN        0.000000              NaN              NaN   \n",
       "1975-01-14        -0.178138        0.000000             -1.0        54.928571   \n",
       "1975-01-15        -0.105155        0.000000             -1.0        56.214286   \n",
       "\n",
       "            rolling_14_tmin  rolling_14_prcp  \n",
       "DATE                                          \n",
       "1975-01-01              NaN              NaN  \n",
       "1975-01-02              NaN              NaN  \n",
       "1975-01-03              NaN              NaN  \n",
       "1975-01-04              NaN              NaN  \n",
       "1975-01-05              NaN              NaN  \n",
       "1975-01-06              NaN              NaN  \n",
       "1975-01-07              NaN              NaN  \n",
       "1975-01-08              NaN              NaN  \n",
       "1975-01-09              NaN              NaN  \n",
       "1975-01-10              NaN              NaN  \n",
       "1975-01-11              NaN              NaN  \n",
       "1975-01-12              NaN              NaN  \n",
       "1975-01-13              NaN              NaN  \n",
       "1975-01-14        35.285714         0.048571  \n",
       "1975-01-15        34.642857         0.045714  "
      ]
     },
     "execution_count": 246,
     "metadata": {},
     "output_type": "execute_result"
    }
   ],
   "source": [
    "# Add predictors to improve accuracy\n",
    "def percent_change(old, new):\n",
    "    return (new-old)/old\n",
    "\n",
    "def create_rolling(weather, days, feature):\n",
    "    rolling_feature_name = f'rolling_{days}_{feature}'\n",
    "    weather[rolling_feature_name] = weather[feature].rolling(days).mean()\n",
    "    weather[f'{feature}_pct_change'] = percent_change(weather[rolling_feature_name], weather[feature])\n",
    "    return weather\n",
    "days = [3, 14]\n",
    "for day in days:\n",
    "    for feature in ['tmax', 'tmin', 'prcp']:\n",
    "        weather = create_rolling(weather, day, feature)\n",
    "weather.head(15)"
   ]
  },
  {
   "cell_type": "code",
   "execution_count": 247,
   "id": "0fc0f9a9-9ec2-4ec0-b0df-a743b197f52a",
   "metadata": {},
   "outputs": [
    {
     "data": {
      "text/html": [
       "<div>\n",
       "<style scoped>\n",
       "    .dataframe tbody tr th:only-of-type {\n",
       "        vertical-align: middle;\n",
       "    }\n",
       "\n",
       "    .dataframe tbody tr th {\n",
       "        vertical-align: top;\n",
       "    }\n",
       "\n",
       "    .dataframe thead th {\n",
       "        text-align: right;\n",
       "    }\n",
       "</style>\n",
       "<table border=\"1\" class=\"dataframe\">\n",
       "  <thead>\n",
       "    <tr style=\"text-align: right;\">\n",
       "      <th></th>\n",
       "      <th>station</th>\n",
       "      <th>name</th>\n",
       "      <th>prcp</th>\n",
       "      <th>snow</th>\n",
       "      <th>tmax</th>\n",
       "      <th>tmin</th>\n",
       "      <th>target</th>\n",
       "      <th>rolling_3_tmax</th>\n",
       "      <th>tmax_pct_change</th>\n",
       "      <th>rolling_3_tmin</th>\n",
       "      <th>tmin_pct_change</th>\n",
       "      <th>rolling_3_prcp</th>\n",
       "      <th>prcp_pct_change</th>\n",
       "      <th>rolling_14_tmax</th>\n",
       "      <th>rolling_14_tmin</th>\n",
       "      <th>rolling_14_prcp</th>\n",
       "    </tr>\n",
       "    <tr>\n",
       "      <th>DATE</th>\n",
       "      <th></th>\n",
       "      <th></th>\n",
       "      <th></th>\n",
       "      <th></th>\n",
       "      <th></th>\n",
       "      <th></th>\n",
       "      <th></th>\n",
       "      <th></th>\n",
       "      <th></th>\n",
       "      <th></th>\n",
       "      <th></th>\n",
       "      <th></th>\n",
       "      <th></th>\n",
       "      <th></th>\n",
       "      <th></th>\n",
       "      <th></th>\n",
       "    </tr>\n",
       "  </thead>\n",
       "  <tbody>\n",
       "    <tr>\n",
       "      <th>1975-01-15</th>\n",
       "      <td>USW00003927</td>\n",
       "      <td>DAL FTW WSCMO AIRPORT, TX US</td>\n",
       "      <td>0.00</td>\n",
       "      <td>0.0</td>\n",
       "      <td>63.0</td>\n",
       "      <td>31.0</td>\n",
       "      <td>54.0</td>\n",
       "      <td>56.333333</td>\n",
       "      <td>0.120712</td>\n",
       "      <td>25.666667</td>\n",
       "      <td>-0.105155</td>\n",
       "      <td>0.000000</td>\n",
       "      <td>-1.000000</td>\n",
       "      <td>56.214286</td>\n",
       "      <td>34.642857</td>\n",
       "      <td>0.045714</td>\n",
       "    </tr>\n",
       "    <tr>\n",
       "      <th>1975-01-16</th>\n",
       "      <td>USW00003927</td>\n",
       "      <td>DAL FTW WSCMO AIRPORT, TX US</td>\n",
       "      <td>0.00</td>\n",
       "      <td>0.0</td>\n",
       "      <td>54.0</td>\n",
       "      <td>36.0</td>\n",
       "      <td>49.0</td>\n",
       "      <td>58.666667</td>\n",
       "      <td>-0.047859</td>\n",
       "      <td>32.000000</td>\n",
       "      <td>0.047817</td>\n",
       "      <td>0.000000</td>\n",
       "      <td>-1.000000</td>\n",
       "      <td>56.714286</td>\n",
       "      <td>34.357143</td>\n",
       "      <td>0.015714</td>\n",
       "    </tr>\n",
       "    <tr>\n",
       "      <th>1975-01-17</th>\n",
       "      <td>USW00003927</td>\n",
       "      <td>DAL FTW WSCMO AIRPORT, TX US</td>\n",
       "      <td>0.03</td>\n",
       "      <td>0.0</td>\n",
       "      <td>49.0</td>\n",
       "      <td>44.0</td>\n",
       "      <td>61.0</td>\n",
       "      <td>55.333333</td>\n",
       "      <td>-0.134931</td>\n",
       "      <td>37.000000</td>\n",
       "      <td>0.262295</td>\n",
       "      <td>0.010000</td>\n",
       "      <td>0.680000</td>\n",
       "      <td>56.642857</td>\n",
       "      <td>34.857143</td>\n",
       "      <td>0.017857</td>\n",
       "    </tr>\n",
       "    <tr>\n",
       "      <th>1975-01-18</th>\n",
       "      <td>USW00003927</td>\n",
       "      <td>DAL FTW WSCMO AIRPORT, TX US</td>\n",
       "      <td>0.01</td>\n",
       "      <td>0.0</td>\n",
       "      <td>61.0</td>\n",
       "      <td>45.0</td>\n",
       "      <td>58.0</td>\n",
       "      <td>54.666667</td>\n",
       "      <td>0.070175</td>\n",
       "      <td>41.666667</td>\n",
       "      <td>0.250000</td>\n",
       "      <td>0.013333</td>\n",
       "      <td>-0.461538</td>\n",
       "      <td>57.000000</td>\n",
       "      <td>36.000000</td>\n",
       "      <td>0.018571</td>\n",
       "    </tr>\n",
       "    <tr>\n",
       "      <th>1975-01-19</th>\n",
       "      <td>USW00003927</td>\n",
       "      <td>DAL FTW WSCMO AIRPORT, TX US</td>\n",
       "      <td>0.00</td>\n",
       "      <td>0.0</td>\n",
       "      <td>58.0</td>\n",
       "      <td>36.0</td>\n",
       "      <td>56.0</td>\n",
       "      <td>56.000000</td>\n",
       "      <td>0.020101</td>\n",
       "      <td>41.666667</td>\n",
       "      <td>0.001988</td>\n",
       "      <td>0.013333</td>\n",
       "      <td>-1.000000</td>\n",
       "      <td>56.857143</td>\n",
       "      <td>35.928571</td>\n",
       "      <td>0.018571</td>\n",
       "    </tr>\n",
       "    <tr>\n",
       "      <th>1975-01-20</th>\n",
       "      <td>USW00003927</td>\n",
       "      <td>DAL FTW WSCMO AIRPORT, TX US</td>\n",
       "      <td>0.00</td>\n",
       "      <td>0.0</td>\n",
       "      <td>56.0</td>\n",
       "      <td>25.0</td>\n",
       "      <td>62.0</td>\n",
       "      <td>58.333333</td>\n",
       "      <td>-0.007595</td>\n",
       "      <td>35.333333</td>\n",
       "      <td>-0.291498</td>\n",
       "      <td>0.003333</td>\n",
       "      <td>-1.000000</td>\n",
       "      <td>56.428571</td>\n",
       "      <td>35.285714</td>\n",
       "      <td>0.018571</td>\n",
       "    </tr>\n",
       "    <tr>\n",
       "      <th>1975-01-21</th>\n",
       "      <td>USW00003927</td>\n",
       "      <td>DAL FTW WSCMO AIRPORT, TX US</td>\n",
       "      <td>0.00</td>\n",
       "      <td>0.0</td>\n",
       "      <td>62.0</td>\n",
       "      <td>39.0</td>\n",
       "      <td>46.0</td>\n",
       "      <td>58.666667</td>\n",
       "      <td>0.115681</td>\n",
       "      <td>33.333333</td>\n",
       "      <td>0.118852</td>\n",
       "      <td>0.000000</td>\n",
       "      <td>-1.000000</td>\n",
       "      <td>55.571429</td>\n",
       "      <td>34.857143</td>\n",
       "      <td>0.018571</td>\n",
       "    </tr>\n",
       "    <tr>\n",
       "      <th>1975-01-22</th>\n",
       "      <td>USW00003927</td>\n",
       "      <td>DAL FTW WSCMO AIRPORT, TX US</td>\n",
       "      <td>0.00</td>\n",
       "      <td>0.0</td>\n",
       "      <td>46.0</td>\n",
       "      <td>38.0</td>\n",
       "      <td>60.0</td>\n",
       "      <td>54.666667</td>\n",
       "      <td>-0.154856</td>\n",
       "      <td>34.000000</td>\n",
       "      <td>0.108333</td>\n",
       "      <td>0.000000</td>\n",
       "      <td>-1.000000</td>\n",
       "      <td>54.428571</td>\n",
       "      <td>34.285714</td>\n",
       "      <td>0.018571</td>\n",
       "    </tr>\n",
       "    <tr>\n",
       "      <th>1975-01-23</th>\n",
       "      <td>USW00003927</td>\n",
       "      <td>DAL FTW WSCMO AIRPORT, TX US</td>\n",
       "      <td>0.00</td>\n",
       "      <td>0.0</td>\n",
       "      <td>60.0</td>\n",
       "      <td>39.0</td>\n",
       "      <td>65.0</td>\n",
       "      <td>56.000000</td>\n",
       "      <td>0.118509</td>\n",
       "      <td>38.666667</td>\n",
       "      <td>0.151899</td>\n",
       "      <td>0.000000</td>\n",
       "      <td>-1.000000</td>\n",
       "      <td>53.642857</td>\n",
       "      <td>33.857143</td>\n",
       "      <td>0.004286</td>\n",
       "    </tr>\n",
       "    <tr>\n",
       "      <th>1975-01-24</th>\n",
       "      <td>USW00003927</td>\n",
       "      <td>DAL FTW WSCMO AIRPORT, TX US</td>\n",
       "      <td>0.10</td>\n",
       "      <td>0.0</td>\n",
       "      <td>65.0</td>\n",
       "      <td>48.0</td>\n",
       "      <td>72.0</td>\n",
       "      <td>57.000000</td>\n",
       "      <td>0.198946</td>\n",
       "      <td>41.666667</td>\n",
       "      <td>0.394191</td>\n",
       "      <td>0.033333</td>\n",
       "      <td>9.000000</td>\n",
       "      <td>54.214286</td>\n",
       "      <td>34.428571</td>\n",
       "      <td>0.010000</td>\n",
       "    </tr>\n",
       "    <tr>\n",
       "      <th>1975-01-25</th>\n",
       "      <td>USW00003927</td>\n",
       "      <td>DAL FTW WSCMO AIRPORT, TX US</td>\n",
       "      <td>0.00</td>\n",
       "      <td>0.0</td>\n",
       "      <td>72.0</td>\n",
       "      <td>39.0</td>\n",
       "      <td>67.0</td>\n",
       "      <td>65.666667</td>\n",
       "      <td>0.277567</td>\n",
       "      <td>42.000000</td>\n",
       "      <td>0.114286</td>\n",
       "      <td>0.033333</td>\n",
       "      <td>-1.000000</td>\n",
       "      <td>56.357143</td>\n",
       "      <td>35.000000</td>\n",
       "      <td>0.010000</td>\n",
       "    </tr>\n",
       "    <tr>\n",
       "      <th>1975-01-26</th>\n",
       "      <td>USW00003927</td>\n",
       "      <td>DAL FTW WSCMO AIRPORT, TX US</td>\n",
       "      <td>0.00</td>\n",
       "      <td>0.0</td>\n",
       "      <td>67.0</td>\n",
       "      <td>45.0</td>\n",
       "      <td>81.0</td>\n",
       "      <td>68.000000</td>\n",
       "      <td>0.145299</td>\n",
       "      <td>44.000000</td>\n",
       "      <td>0.232877</td>\n",
       "      <td>0.033333</td>\n",
       "      <td>-1.000000</td>\n",
       "      <td>58.500000</td>\n",
       "      <td>36.500000</td>\n",
       "      <td>0.010000</td>\n",
       "    </tr>\n",
       "    <tr>\n",
       "      <th>1975-01-27</th>\n",
       "      <td>USW00003927</td>\n",
       "      <td>DAL FTW WSCMO AIRPORT, TX US</td>\n",
       "      <td>0.00</td>\n",
       "      <td>0.0</td>\n",
       "      <td>81.0</td>\n",
       "      <td>46.0</td>\n",
       "      <td>72.0</td>\n",
       "      <td>73.333333</td>\n",
       "      <td>0.329426</td>\n",
       "      <td>43.333333</td>\n",
       "      <td>0.192593</td>\n",
       "      <td>0.000000</td>\n",
       "      <td>-1.000000</td>\n",
       "      <td>60.928571</td>\n",
       "      <td>38.571429</td>\n",
       "      <td>0.010000</td>\n",
       "    </tr>\n",
       "    <tr>\n",
       "      <th>1975-01-28</th>\n",
       "      <td>USW00003927</td>\n",
       "      <td>DAL FTW WSCMO AIRPORT, TX US</td>\n",
       "      <td>0.00</td>\n",
       "      <td>0.0</td>\n",
       "      <td>72.0</td>\n",
       "      <td>50.0</td>\n",
       "      <td>66.0</td>\n",
       "      <td>73.333333</td>\n",
       "      <td>0.163972</td>\n",
       "      <td>47.000000</td>\n",
       "      <td>0.247772</td>\n",
       "      <td>0.000000</td>\n",
       "      <td>-1.000000</td>\n",
       "      <td>61.857143</td>\n",
       "      <td>40.071429</td>\n",
       "      <td>0.010000</td>\n",
       "    </tr>\n",
       "    <tr>\n",
       "      <th>1975-01-29</th>\n",
       "      <td>USW00003927</td>\n",
       "      <td>DAL FTW WSCMO AIRPORT, TX US</td>\n",
       "      <td>0.00</td>\n",
       "      <td>0.0</td>\n",
       "      <td>66.0</td>\n",
       "      <td>55.0</td>\n",
       "      <td>74.0</td>\n",
       "      <td>73.000000</td>\n",
       "      <td>0.063291</td>\n",
       "      <td>50.333333</td>\n",
       "      <td>0.316239</td>\n",
       "      <td>0.000000</td>\n",
       "      <td>-1.000000</td>\n",
       "      <td>62.071429</td>\n",
       "      <td>41.785714</td>\n",
       "      <td>0.010000</td>\n",
       "    </tr>\n",
       "    <tr>\n",
       "      <th>1975-01-30</th>\n",
       "      <td>USW00003927</td>\n",
       "      <td>DAL FTW WSCMO AIRPORT, TX US</td>\n",
       "      <td>0.13</td>\n",
       "      <td>0.0</td>\n",
       "      <td>74.0</td>\n",
       "      <td>51.0</td>\n",
       "      <td>54.0</td>\n",
       "      <td>70.666667</td>\n",
       "      <td>0.165354</td>\n",
       "      <td>52.000000</td>\n",
       "      <td>0.190000</td>\n",
       "      <td>0.043333</td>\n",
       "      <td>5.740741</td>\n",
       "      <td>63.500000</td>\n",
       "      <td>42.857143</td>\n",
       "      <td>0.019286</td>\n",
       "    </tr>\n",
       "    <tr>\n",
       "      <th>1975-01-31</th>\n",
       "      <td>USW00003927</td>\n",
       "      <td>DAL FTW WSCMO AIRPORT, TX US</td>\n",
       "      <td>2.39</td>\n",
       "      <td>0.0</td>\n",
       "      <td>54.0</td>\n",
       "      <td>44.0</td>\n",
       "      <td>46.0</td>\n",
       "      <td>64.666667</td>\n",
       "      <td>-0.154362</td>\n",
       "      <td>50.000000</td>\n",
       "      <td>0.026667</td>\n",
       "      <td>0.840000</td>\n",
       "      <td>11.722433</td>\n",
       "      <td>63.857143</td>\n",
       "      <td>42.857143</td>\n",
       "      <td>0.187857</td>\n",
       "    </tr>\n",
       "    <tr>\n",
       "      <th>1975-02-01</th>\n",
       "      <td>USW00003927</td>\n",
       "      <td>DAL FTW WSCMO AIRPORT, TX US</td>\n",
       "      <td>2.03</td>\n",
       "      <td>0.0</td>\n",
       "      <td>46.0</td>\n",
       "      <td>43.0</td>\n",
       "      <td>47.0</td>\n",
       "      <td>58.000000</td>\n",
       "      <td>-0.267349</td>\n",
       "      <td>46.000000</td>\n",
       "      <td>0.006689</td>\n",
       "      <td>1.516667</td>\n",
       "      <td>5.111828</td>\n",
       "      <td>62.785714</td>\n",
       "      <td>42.714286</td>\n",
       "      <td>0.332143</td>\n",
       "    </tr>\n",
       "    <tr>\n",
       "      <th>1975-02-02</th>\n",
       "      <td>USW00003927</td>\n",
       "      <td>DAL FTW WSCMO AIRPORT, TX US</td>\n",
       "      <td>0.25</td>\n",
       "      <td>0.0</td>\n",
       "      <td>47.0</td>\n",
       "      <td>43.0</td>\n",
       "      <td>49.0</td>\n",
       "      <td>49.000000</td>\n",
       "      <td>-0.241935</td>\n",
       "      <td>43.333333</td>\n",
       "      <td>-0.004959</td>\n",
       "      <td>1.556667</td>\n",
       "      <td>-0.285714</td>\n",
       "      <td>62.000000</td>\n",
       "      <td>43.214286</td>\n",
       "      <td>0.350000</td>\n",
       "    </tr>\n",
       "    <tr>\n",
       "      <th>1975-02-03</th>\n",
       "      <td>USW00003927</td>\n",
       "      <td>DAL FTW WSCMO AIRPORT, TX US</td>\n",
       "      <td>0.16</td>\n",
       "      <td>0.0</td>\n",
       "      <td>49.0</td>\n",
       "      <td>44.0</td>\n",
       "      <td>54.0</td>\n",
       "      <td>47.333333</td>\n",
       "      <td>-0.203252</td>\n",
       "      <td>43.333333</td>\n",
       "      <td>-0.012821</td>\n",
       "      <td>0.813333</td>\n",
       "      <td>-0.557312</td>\n",
       "      <td>61.500000</td>\n",
       "      <td>44.571429</td>\n",
       "      <td>0.361429</td>\n",
       "    </tr>\n",
       "  </tbody>\n",
       "</table>\n",
       "</div>"
      ],
      "text/plain": [
       "                station                          name  prcp  snow  tmax  tmin  \\\n",
       "DATE                                                                            \n",
       "1975-01-15  USW00003927  DAL FTW WSCMO AIRPORT, TX US  0.00   0.0  63.0  31.0   \n",
       "1975-01-16  USW00003927  DAL FTW WSCMO AIRPORT, TX US  0.00   0.0  54.0  36.0   \n",
       "1975-01-17  USW00003927  DAL FTW WSCMO AIRPORT, TX US  0.03   0.0  49.0  44.0   \n",
       "1975-01-18  USW00003927  DAL FTW WSCMO AIRPORT, TX US  0.01   0.0  61.0  45.0   \n",
       "1975-01-19  USW00003927  DAL FTW WSCMO AIRPORT, TX US  0.00   0.0  58.0  36.0   \n",
       "1975-01-20  USW00003927  DAL FTW WSCMO AIRPORT, TX US  0.00   0.0  56.0  25.0   \n",
       "1975-01-21  USW00003927  DAL FTW WSCMO AIRPORT, TX US  0.00   0.0  62.0  39.0   \n",
       "1975-01-22  USW00003927  DAL FTW WSCMO AIRPORT, TX US  0.00   0.0  46.0  38.0   \n",
       "1975-01-23  USW00003927  DAL FTW WSCMO AIRPORT, TX US  0.00   0.0  60.0  39.0   \n",
       "1975-01-24  USW00003927  DAL FTW WSCMO AIRPORT, TX US  0.10   0.0  65.0  48.0   \n",
       "1975-01-25  USW00003927  DAL FTW WSCMO AIRPORT, TX US  0.00   0.0  72.0  39.0   \n",
       "1975-01-26  USW00003927  DAL FTW WSCMO AIRPORT, TX US  0.00   0.0  67.0  45.0   \n",
       "1975-01-27  USW00003927  DAL FTW WSCMO AIRPORT, TX US  0.00   0.0  81.0  46.0   \n",
       "1975-01-28  USW00003927  DAL FTW WSCMO AIRPORT, TX US  0.00   0.0  72.0  50.0   \n",
       "1975-01-29  USW00003927  DAL FTW WSCMO AIRPORT, TX US  0.00   0.0  66.0  55.0   \n",
       "1975-01-30  USW00003927  DAL FTW WSCMO AIRPORT, TX US  0.13   0.0  74.0  51.0   \n",
       "1975-01-31  USW00003927  DAL FTW WSCMO AIRPORT, TX US  2.39   0.0  54.0  44.0   \n",
       "1975-02-01  USW00003927  DAL FTW WSCMO AIRPORT, TX US  2.03   0.0  46.0  43.0   \n",
       "1975-02-02  USW00003927  DAL FTW WSCMO AIRPORT, TX US  0.25   0.0  47.0  43.0   \n",
       "1975-02-03  USW00003927  DAL FTW WSCMO AIRPORT, TX US  0.16   0.0  49.0  44.0   \n",
       "\n",
       "            target  rolling_3_tmax  tmax_pct_change  rolling_3_tmin  \\\n",
       "DATE                                                                  \n",
       "1975-01-15    54.0       56.333333         0.120712       25.666667   \n",
       "1975-01-16    49.0       58.666667        -0.047859       32.000000   \n",
       "1975-01-17    61.0       55.333333        -0.134931       37.000000   \n",
       "1975-01-18    58.0       54.666667         0.070175       41.666667   \n",
       "1975-01-19    56.0       56.000000         0.020101       41.666667   \n",
       "1975-01-20    62.0       58.333333        -0.007595       35.333333   \n",
       "1975-01-21    46.0       58.666667         0.115681       33.333333   \n",
       "1975-01-22    60.0       54.666667        -0.154856       34.000000   \n",
       "1975-01-23    65.0       56.000000         0.118509       38.666667   \n",
       "1975-01-24    72.0       57.000000         0.198946       41.666667   \n",
       "1975-01-25    67.0       65.666667         0.277567       42.000000   \n",
       "1975-01-26    81.0       68.000000         0.145299       44.000000   \n",
       "1975-01-27    72.0       73.333333         0.329426       43.333333   \n",
       "1975-01-28    66.0       73.333333         0.163972       47.000000   \n",
       "1975-01-29    74.0       73.000000         0.063291       50.333333   \n",
       "1975-01-30    54.0       70.666667         0.165354       52.000000   \n",
       "1975-01-31    46.0       64.666667        -0.154362       50.000000   \n",
       "1975-02-01    47.0       58.000000        -0.267349       46.000000   \n",
       "1975-02-02    49.0       49.000000        -0.241935       43.333333   \n",
       "1975-02-03    54.0       47.333333        -0.203252       43.333333   \n",
       "\n",
       "            tmin_pct_change  rolling_3_prcp  prcp_pct_change  rolling_14_tmax  \\\n",
       "DATE                                                                            \n",
       "1975-01-15        -0.105155        0.000000        -1.000000        56.214286   \n",
       "1975-01-16         0.047817        0.000000        -1.000000        56.714286   \n",
       "1975-01-17         0.262295        0.010000         0.680000        56.642857   \n",
       "1975-01-18         0.250000        0.013333        -0.461538        57.000000   \n",
       "1975-01-19         0.001988        0.013333        -1.000000        56.857143   \n",
       "1975-01-20        -0.291498        0.003333        -1.000000        56.428571   \n",
       "1975-01-21         0.118852        0.000000        -1.000000        55.571429   \n",
       "1975-01-22         0.108333        0.000000        -1.000000        54.428571   \n",
       "1975-01-23         0.151899        0.000000        -1.000000        53.642857   \n",
       "1975-01-24         0.394191        0.033333         9.000000        54.214286   \n",
       "1975-01-25         0.114286        0.033333        -1.000000        56.357143   \n",
       "1975-01-26         0.232877        0.033333        -1.000000        58.500000   \n",
       "1975-01-27         0.192593        0.000000        -1.000000        60.928571   \n",
       "1975-01-28         0.247772        0.000000        -1.000000        61.857143   \n",
       "1975-01-29         0.316239        0.000000        -1.000000        62.071429   \n",
       "1975-01-30         0.190000        0.043333         5.740741        63.500000   \n",
       "1975-01-31         0.026667        0.840000        11.722433        63.857143   \n",
       "1975-02-01         0.006689        1.516667         5.111828        62.785714   \n",
       "1975-02-02        -0.004959        1.556667        -0.285714        62.000000   \n",
       "1975-02-03        -0.012821        0.813333        -0.557312        61.500000   \n",
       "\n",
       "            rolling_14_tmin  rolling_14_prcp  \n",
       "DATE                                          \n",
       "1975-01-15        34.642857         0.045714  \n",
       "1975-01-16        34.357143         0.015714  \n",
       "1975-01-17        34.857143         0.017857  \n",
       "1975-01-18        36.000000         0.018571  \n",
       "1975-01-19        35.928571         0.018571  \n",
       "1975-01-20        35.285714         0.018571  \n",
       "1975-01-21        34.857143         0.018571  \n",
       "1975-01-22        34.285714         0.018571  \n",
       "1975-01-23        33.857143         0.004286  \n",
       "1975-01-24        34.428571         0.010000  \n",
       "1975-01-25        35.000000         0.010000  \n",
       "1975-01-26        36.500000         0.010000  \n",
       "1975-01-27        38.571429         0.010000  \n",
       "1975-01-28        40.071429         0.010000  \n",
       "1975-01-29        41.785714         0.010000  \n",
       "1975-01-30        42.857143         0.019286  \n",
       "1975-01-31        42.857143         0.187857  \n",
       "1975-02-01        42.714286         0.332143  \n",
       "1975-02-02        43.214286         0.350000  \n",
       "1975-02-03        44.571429         0.361429  "
      ]
     },
     "execution_count": 247,
     "metadata": {},
     "output_type": "execute_result"
    }
   ],
   "source": [
    "# Remove new null values\n",
    "weather = weather.iloc[14:]\n",
    "weather.head()\n",
    "weather = weather.fillna(0)\n",
    "weather.head(20)"
   ]
  },
  {
   "cell_type": "code",
   "execution_count": 248,
   "id": "82c181af-d975-49a3-b0b4-95fcec9576bd",
   "metadata": {},
   "outputs": [],
   "source": [
    "# Update predictors to include new features\n",
    "predictors = weather.columns[~weather.columns.isin(['target', 'name', 'station'])]\n",
    "predictions = walk_forward_validation(weather, model, predictors)"
   ]
  },
  {
   "cell_type": "code",
   "execution_count": 249,
   "id": "92adaede-0c81-4dec-bd78-572a31e05a38",
   "metadata": {},
   "outputs": [
    {
     "data": {
      "text/plain": [
       "5.046130802770731"
      ]
     },
     "execution_count": 249,
     "metadata": {},
     "output_type": "execute_result"
    }
   ],
   "source": [
    "# MAE with new features\n",
    "mean_absolute_error(predictions.actual, predictions.predicted)"
   ]
  },
  {
   "cell_type": "code",
   "execution_count": 250,
   "id": "8be45a3a-91f8-4da5-9c70-b5c2193c6603",
   "metadata": {},
   "outputs": [
    {
     "name": "stdout",
     "output_type": "stream",
     "text": [
      "{5.047052246943854: 1, 5.046596442062996: 2, 5.046385791502551: 3, 5.046292740046829: 4, 5.046231017131491: 5, 5.046188236783797: 6, 5.046155377522863: 7, 5.046130802770731: 8, 5.0461165608986605: 9, 5.046106078437588: 10, 5.046098502479194: 11, 5.046090935753097: 12, 5.046081462616552: 13, 5.046071020891275: 14, 5.04605983216101: 15, 5.046048455141814: 16, 5.046040017780431: 17, 5.046031769168063: 18, 5.0460236309436235: 19, 5.046014485615971: 20, 5.046005048862756: 21, 5.045994928116998: 22, 5.045985829332622: 23, 5.045977770207562: 24, 5.045969955730726: 25, 5.045961898488812: 26, 5.04595324374892: 27, 5.045945069463144: 28, 5.045937361680375: 29, 5.045930456007999: 30, 5.045923190810291: 31, 5.045916259884344: 32, 5.045910128373947: 33, 5.0459043777202055: 34, 5.045898561349011: 35, 5.045892511029717: 36, 5.0458862230644215: 37, 5.045879945846983: 38, 5.045873869283773: 39, 5.0458684281929: 40, 5.045862912229276: 41, 5.045857770038792: 42, 5.045852902707823: 43, 5.045848774196157: 44, 5.04584464372468: 45, 5.045840407790198: 46, 5.04583606336747: 47, 5.045831622804635: 48, 5.045827098690994: 49}\n"
     ]
    }
   ],
   "source": [
    "# Tune hyperparameter alpha\n",
    "alpha_array = range(1,50)\n",
    "alpha_predictions = {}\n",
    "for alpha in alpha_array:\n",
    "    model = Ridge(alpha = alpha)\n",
    "    preds = walk_forward_validation(weather, model, predictors)\n",
    "    score = mean_absolute_error(preds.actual, preds.predicted)\n",
    "    alpha_predictions[score] = alpha\n",
    "print(alpha_predictions)\n"
   ]
  },
  {
   "cell_type": "code",
   "execution_count": 251,
   "id": "de349809-440d-4939-805c-f39a35cb60b3",
   "metadata": {},
   "outputs": [
    {
     "data": {
      "text/plain": [
       "49"
      ]
     },
     "execution_count": 251,
     "metadata": {},
     "output_type": "execute_result"
    }
   ],
   "source": [
    "# Find optimal alpha\n",
    "alpha_predictions[min(alpha_predictions)]"
   ]
  },
  {
   "cell_type": "code",
   "execution_count": 252,
   "id": "b9b57a03-6fdd-4338-94fc-6527e0b40748",
   "metadata": {},
   "outputs": [
    {
     "data": {
      "text/plain": [
       "5.001033730516073"
      ]
     },
     "execution_count": 252,
     "metadata": {},
     "output_type": "execute_result"
    }
   ],
   "source": [
    "# Try Random Forest Regressor model to see if more accurate\n",
    "from sklearn.ensemble import RandomForestRegressor\n",
    "rfr = RandomForestRegressor(n_estimators = 50, max_depth = 10, random_state = 100)\n",
    "rfr_predictions = walk_forward_validation(weather, rfr, predictors) \n",
    "mean_absolute_error(rfr_predictions.actual, rfr_predictions.predicted) # Random Forest regressor has lower MAE"
   ]
  },
  {
   "cell_type": "code",
   "execution_count": 253,
   "id": "8e759cbd-6a68-4445-a61f-f9112ebcc8df",
   "metadata": {},
   "outputs": [
    {
     "data": {
      "image/png": "[encoded data removed]",
      "text/plain": [
       "<Figure size 640x480 with 1 Axes>"
      ]
     },
     "metadata": {},
     "output_type": "display_data"
    },
    {
     "data": {
      "image/png": "[encoded data removed]",
      "text/plain": [
       "<Figure size 640x480 with 1 Axes>"
      ]
     },
     "metadata": {},
     "output_type": "display_data"
    },
    {
     "data": {
      "image/png": "[encoded data removed]",
      "text/plain": [
       "<Figure size 640x480 with 1 Axes>"
      ]
     },
     "metadata": {},
     "output_type": "display_data"
    },
    {
     "data": {
      "image/png": "[encoded data removed]",
      "text/plain": [
       "<Figure size 640x480 with 1 Axes>"
      ]
     },
     "metadata": {},
     "output_type": "display_data"
    },
    {
     "data": {
      "image/png": "[encoded data removed]",
      "text/plain": [
       "<Figure size 640x480 with 1 Axes>"
      ]
     },
     "metadata": {},
     "output_type": "display_data"
    },
    {
     "data": {
      "image/png": "[encoded data removed]",
      "text/plain": [
       "<Figure size 640x480 with 1 Axes>"
      ]
     },
     "metadata": {},
     "output_type": "display_data"
    },
    {
     "data": {
      "image/png": "[encoded data removed]",
      "text/plain": [
       "<Figure size 640x480 with 1 Axes>"
      ]
     },
     "metadata": {},
     "output_type": "display_data"
    },
    {
     "data": {
      "image/png": "[encoded data removed]",
      "text/plain": [
       "<Figure size 640x480 with 1 Axes>"
      ]
     },
     "metadata": {},
     "output_type": "display_data"
    },
    {
     "data": {
      "image/png": "[encoded data removed]",
      "text/plain": [
       "<Figure size 640x480 with 1 Axes>"
      ]
     },
     "metadata": {},
     "output_type": "display_data"
    },
    {
     "data": {
      "image/png": "[encoded data removed]",
      "text/plain": [
       "<Figure size 640x480 with 1 Axes>"
      ]
     },
     "metadata": {},
     "output_type": "display_data"
    },
    {
     "data": {
      "image/png": "[encoded data removed]",
      "text/plain": [
       "<Figure size 640x480 with 1 Axes>"
      ]
     },
     "metadata": {},
     "output_type": "display_data"
    },
    {
     "data": {
      "image/png": "[encoded data removed]",
      "text/plain": [
       "<Figure size 640x480 with 1 Axes>"
      ]
     },
     "metadata": {},
     "output_type": "display_data"
    },
    {
     "data": {
      "image/png": "[encoded data removed]",
      "text/plain": [
       "<Figure size 640x480 with 1 Axes>"
      ]
     },
     "metadata": {},
     "output_type": "display_data"
    },
    {
     "data": {
      "text/plain": [
       "<Figure size 640x480 with 0 Axes>"
      ]
     },
     "metadata": {},
     "output_type": "display_data"
    }
   ],
   "source": [
    "# Inspect outliers\n",
    "for col in predictors:\n",
    "    sns.boxplot(weather[col])\n",
    "    plt.show()\n",
    "    plt.clf()"
   ]
  },
  {
   "cell_type": "code",
   "execution_count": 254,
   "id": "aa5cbd9d-ff51-45b5-8561-2b2cf155aaae",
   "metadata": {},
   "outputs": [
    {
     "data": {
      "text/plain": [
       "5.021110170660645"
      ]
     },
     "execution_count": 254,
     "metadata": {},
     "output_type": "execute_result"
    }
   ],
   "source": [
    "# Try dropping snow and prcp columns to improve accuracy\n",
    "weather2 = weather.copy()\n",
    "weather2 = weather2.drop(columns = ['snow', 'prcp'])\n",
    "new_predictors = weather.columns[~weather.columns.isin(['target', 'name', 'station', 'snow', 'prcp'])]\n",
    "rfr_predictions = walk_forward_validation(weather2, rfr, new_predictors)\n",
    "mean_absolute_error(rfr_predictions.actual, rfr_predictions.predicted)\n",
    "# MAE gets worse"
   ]
  },
  {
   "cell_type": "code",
   "execution_count": 308,
   "id": "10bf3896-e2a8-4e09-b822-fe6b9d9e60dc",
   "metadata": {},
   "outputs": [],
   "source": [
    "no_outliers = weather.reset_index() # New DataFrame with numeric index"
   ]
  },
  {
   "cell_type": "code",
   "execution_count": null,
   "id": "767a36fa-4b26-4618-bb47-12fce7909efb",
   "metadata": {},
   "outputs": [],
   "source": []
  },
  {
   "cell_type": "code",
   "execution_count": null,
   "id": "551c7955-be0f-4bc0-808d-450d5a01b6ed",
   "metadata": {},
   "outputs": [],
   "source": []
  },
  {
   "cell_type": "code",
   "execution_count": 309,
   "id": "55cca869-12e3-4876-bb0d-785824c3ff28",
   "metadata": {},
   "outputs": [
    {
     "name": "stdout",
     "output_type": "stream",
     "text": [
      "833\n",
      "18136\n",
      "0.04593074547860609\n"
     ]
    }
   ],
   "source": [
    "# Identify and drop outliers from dataset \n",
    "from scipy import stats\n",
    "predictors = no_outliers.columns[~no_outliers.columns.isin(['target', 'name', 'station', 'DATE'])]\n",
    "outlier_indices = []\n",
    "for col in predictors:\n",
    "    z_score = np.abs(stats.zscore(no_outliers[col]))\n",
    "    for score in z_score:\n",
    "        if score >= 3:\n",
    "            outlier_indices.append(list(z_score).index(score))\n",
    "        else:\n",
    "            pass\n",
    "for i in outlier_indices:\n",
    "    for _ in outlier_indices:\n",
    "        if i == _:\n",
    "            outlier_indices.remove(i)\n",
    "            \n",
    "print(len(outlier_indices)) #Check how much data we lose\n",
    "print(len(weather))\n",
    "print(833/18136) # 4.6% of data identified as outliers\n",
    "\n",
    "no_outliers = no_outliers.drop(outlier_indices)\n",
    "\n",
    "# Test new dataset \n",
    "rfr_predictions = walk_forward_validation(no_outliers, rfr, predictors)\n",
    "mae = mean_absolute_error(rfr_predictions.actual, rfr_predictions.predicted)\n"
   ]
  },
  {
   "cell_type": "code",
   "execution_count": 311,
   "id": "798751c7-e6aa-419f-aee5-3d3c601f2cbd",
   "metadata": {},
   "outputs": [
    {
     "name": "stdout",
     "output_type": "stream",
     "text": [
      "4.946130368036846\n"
     ]
    },
    {
     "data": {
      "text/plain": [
       "0.06380597255722678"
      ]
     },
     "execution_count": 311,
     "metadata": {},
     "output_type": "execute_result"
    }
   ],
   "source": [
    "mean_temp = no_outliers['target'].mean()\n",
    "print(mae)\n",
    "mae/mean_temp # Gives MAE as a percentage of the mean target (temperature)\n",
    "# MAE has improved after removing outliers"
   ]
  },
  {
   "cell_type": "code",
   "execution_count": 287,
   "id": "1e6ec953-658c-406c-aef3-638632c58572",
   "metadata": {},
   "outputs": [
    {
     "data": {
      "image/png": "[encoded data removed]",
      "text/plain": [
       "<Figure size 640x480 with 1 Axes>"
      ]
     },
     "metadata": {},
     "output_type": "display_data"
    },
    {
     "data": {
      "image/png": "[encoded data removed]",
      "text/plain": [
       "<Figure size 640x480 with 1 Axes>"
      ]
     },
     "metadata": {},
     "output_type": "display_data"
    },
    {
     "data": {
      "image/png": "[encoded data removed]",
      "text/plain": [
       "<Figure size 640x480 with 1 Axes>"
      ]
     },
     "metadata": {},
     "output_type": "display_data"
    },
    {
     "data": {
      "image/png": "[encoded data removed]",
      "text/plain": [
       "<Figure size 640x480 with 1 Axes>"
      ]
     },
     "metadata": {},
     "output_type": "display_data"
    },
    {
     "data": {
      "image/png": "[encoded data removed]",
      "text/plain": [
       "<Figure size 640x480 with 1 Axes>"
      ]
     },
     "metadata": {},
     "output_type": "display_data"
    },
    {
     "data": {
      "image/png": "[encoded data removed]",
      "text/plain": [
       "<Figure size 640x480 with 1 Axes>"
      ]
     },
     "metadata": {},
     "output_type": "display_data"
    },
    {
     "data": {
      "image/png": "[encoded data removed]",
      "text/plain": [
       "<Figure size 640x480 with 1 Axes>"
      ]
     },
     "metadata": {},
     "output_type": "display_data"
    },
    {
     "data": {
      "image/png": "[encoded data removed]",
      "text/plain": [
       "<Figure size 640x480 with 1 Axes>"
      ]
     },
     "metadata": {},
     "output_type": "display_data"
    },
    {
     "data": {
      "image/png": "[encoded data removed]",
      "text/plain": [
       "<Figure size 640x480 with 1 Axes>"
      ]
     },
     "metadata": {},
     "output_type": "display_data"
    },
    {
     "data": {
      "image/png": "[encoded data removed]",
      "text/plain": [
       "<Figure size 640x480 with 1 Axes>"
      ]
     },
     "metadata": {},
     "output_type": "display_data"
    },
    {
     "data": {
      "image/png": "[encoded data removed]",
      "text/plain": [
       "<Figure size 640x480 with 1 Axes>"
      ]
     },
     "metadata": {},
     "output_type": "display_data"
    },
    {
     "data": {
      "image/png": "[encoded data removed]",
      "text/plain": [
       "<Figure size 640x480 with 1 Axes>"
      ]
     },
     "metadata": {},
     "output_type": "display_data"
    },
    {
     "data": {
      "image/png": "[encoded data removed]",
      "text/plain": [
       "<Figure size 640x480 with 1 Axes>"
      ]
     },
     "metadata": {},
     "output_type": "display_data"
    },
    {
     "data": {
      "text/plain": [
       "<Figure size 640x480 with 0 Axes>"
      ]
     },
     "metadata": {},
     "output_type": "display_data"
    }
   ],
   "source": [
    "# Inspect outliers again\n",
    "for col in predictors:\n",
    "    sns.boxplot(no_outliers[col])\n",
    "    plt.show()\n",
    "    plt.clf()"
   ]
  },
  {
   "cell_type": "code",
   "execution_count": 297,
   "id": "d4df56b8-8f5a-43d2-8260-5eb972701ff9",
   "metadata": {},
   "outputs": [],
   "source": [
    "# Tune hyperparameters of Random Forest Regressor using Grid Search CV\n",
    "from sklearn.model_selection import GridSearchCV, TimeSeriesSplit\n",
    "n_estimators = [25, 50, 75, 100]\n",
    "max_depth = [8,10,12,14]\n",
    "param_grid = {'n_estimators': n_estimators, 'max_depth': max_depth}\n",
    "tscv = TimeSeriesSplit(n_splits = 5)\n",
    "split_index = int(np.round((len(no_outliers)*0.8)))\n",
    "train = no_outliers[:split_index]\n",
    "test = no_outliers[split_index:]\n",
    "forest = RandomForestRegressor()\n",
    "grid_search = GridSearchCV(estimator = forest, param_grid = param_grid, cv = tscv, scoring = 'neg_mean_absolute_error')\n",
    "grid_search.fit(train[predictors], train['target'])\n",
    "best_model = grid_search.best_estimator_\n",
    "best_params = grid_search.best_params_\n"
   ]
  },
  {
   "cell_type": "code",
   "execution_count": 298,
   "id": "e4d9a3ff-abe1-4667-9094-6bba517c0b4d",
   "metadata": {},
   "outputs": [
    {
     "name": "stdout",
     "output_type": "stream",
     "text": [
      "RandomForestRegressor(max_depth=8, n_estimators=75)\n",
      "{'max_depth': 8, 'n_estimators': 75}\n"
     ]
    }
   ],
   "source": [
    "# Get best hyperparameters\n",
    "print(best_model)\n",
    "print(best_params)"
   ]
  },
  {
   "cell_type": "code",
   "execution_count": 299,
   "id": "cdee5743-f37c-42b6-b96e-6e6ef164eb6e",
   "metadata": {},
   "outputs": [],
   "source": [
    "# Obtain MAE of best model\n",
    "rfr = RandomForestRegressor(n_estimators = 75, max_depth = 8)\n",
    "rfr_predictions = walk_forward_validation(no_outliers, rfr, predictors)\n",
    "mae = mean_absolute_error(rfr_predictions.actual, rfr_predictions.predicted)"
   ]
  },
  {
   "cell_type": "code",
   "execution_count": 300,
   "id": "d517a771-e99f-43f6-a94e-8c4839f176c6",
   "metadata": {},
   "outputs": [
    {
     "data": {
      "text/plain": [
       "4.940426014983358"
      ]
     },
     "execution_count": 300,
     "metadata": {},
     "output_type": "execute_result"
    }
   ],
   "source": [
    "mae"
   ]
  },
  {
   "cell_type": "code",
   "execution_count": 302,
   "id": "f96a26be-64a4-44c0-bc31-45e99811145b",
   "metadata": {},
   "outputs": [
    {
     "data": {
      "text/plain": [
       "0.06373238537546957"
      ]
     },
     "execution_count": 302,
     "metadata": {},
     "output_type": "execute_result"
    }
   ],
   "source": [
    "mae/mean_temp"
   ]
  },
  {
   "cell_type": "code",
   "execution_count": 313,
   "id": "78108968-acdd-4b70-9782-9801daac6e94",
   "metadata": {},
   "outputs": [
    {
     "name": "stdout",
     "output_type": "stream",
     "text": [
      "17434\n",
      "            DATE      station                          name  prcp  snow  tmax  \\\n",
      "0     1975-01-15  USW00003927  DAL FTW WSCMO AIRPORT, TX US  0.00   0.0  63.0   \n",
      "1     1975-01-16  USW00003927  DAL FTW WSCMO AIRPORT, TX US  0.00   0.0  54.0   \n",
      "2     1975-01-17  USW00003927  DAL FTW WSCMO AIRPORT, TX US  0.03   0.0  49.0   \n",
      "3     1975-01-18  USW00003927  DAL FTW WSCMO AIRPORT, TX US  0.01   0.0  61.0   \n",
      "4     1975-01-19  USW00003927  DAL FTW WSCMO AIRPORT, TX US  0.00   0.0  58.0   \n",
      "...          ...          ...                           ...   ...   ...   ...   \n",
      "18131 2024-09-13  USW00003927  DAL FTW WSCMO AIRPORT, TX US  0.00   0.0  92.0   \n",
      "18132 2024-09-14  USW00003927  DAL FTW WSCMO AIRPORT, TX US  0.00   0.0  93.0   \n",
      "18133 2024-09-15  USW00003927  DAL FTW WSCMO AIRPORT, TX US  0.00   0.0  92.0   \n",
      "18134 2024-09-16  USW00003927  DAL FTW WSCMO AIRPORT, TX US  0.00   0.0  91.0   \n",
      "18135 2024-09-17  USW00003927  DAL FTW WSCMO AIRPORT, TX US  0.00   0.0  89.0   \n",
      "\n",
      "       tmin  target  rolling_3_tmax  tmax_pct_change  rolling_3_tmin  \\\n",
      "0      31.0    54.0       56.333333         0.120712       25.666667   \n",
      "1      36.0    49.0       58.666667        -0.047859       32.000000   \n",
      "2      44.0    61.0       55.333333        -0.134931       37.000000   \n",
      "3      45.0    58.0       54.666667         0.070175       41.666667   \n",
      "4      36.0    56.0       56.000000         0.020101       41.666667   \n",
      "...     ...     ...             ...              ...             ...   \n",
      "18131  70.0    93.0       86.666667         0.056604       70.666667   \n",
      "18132  75.0    92.0       90.000000         0.069844       71.666667   \n",
      "18133  74.0    91.0       92.333333         0.060082       73.000000   \n",
      "18134  72.0    89.0       92.000000         0.047697       73.666667   \n",
      "18135  73.0    89.0       90.666667         0.017974       73.000000   \n",
      "\n",
      "       tmin_pct_change  rolling_3_prcp  prcp_pct_change  rolling_14_tmax  \\\n",
      "0            -0.105155        0.000000        -1.000000        56.214286   \n",
      "1             0.047817        0.000000        -1.000000        56.714286   \n",
      "2             0.262295        0.010000         0.680000        56.642857   \n",
      "3             0.250000        0.013333        -0.461538        57.000000   \n",
      "4             0.001988        0.013333        -1.000000        56.857143   \n",
      "...                ...             ...              ...              ...   \n",
      "18131         0.002045        0.073333        -1.000000        87.071429   \n",
      "18132         0.074719        0.000000        -1.000000        86.928571   \n",
      "18133         0.062564        0.000000        -1.000000        86.785714   \n",
      "18134         0.038105        0.000000        -1.000000        86.857143   \n",
      "18135         0.050360        0.000000        -1.000000        87.428571   \n",
      "\n",
      "       rolling_14_tmin  rolling_14_prcp  \n",
      "0            34.642857         0.045714  \n",
      "1            34.357143         0.015714  \n",
      "2            34.857143         0.017857  \n",
      "3            36.000000         0.018571  \n",
      "4            35.928571         0.018571  \n",
      "...                ...              ...  \n",
      "18131        69.857143         0.108571  \n",
      "18132        69.785714         0.104286  \n",
      "18133        69.642857         0.074286  \n",
      "18134        69.357143         0.074286  \n",
      "18135        69.500000         0.042143  \n",
      "\n",
      "[17434 rows x 17 columns]\n",
      "17434\n"
     ]
    }
   ],
   "source": [
    "print(len(no_outliers))\n",
    "print(no_outliers)\n",
    "final_clean_data = no_outliers\n",
    "final_clean_data.to_csv('final_clean_data.csv', index = False)\n",
    "print(len(final_clean_data))"
   ]
  },
  {
   "cell_type": "code",
   "execution_count": null,
   "id": "1466a698-834b-4f90-a083-4b7ba1179bc9",
   "metadata": {},
   "outputs": [],
   "source": []
  }
 ],
 "metadata": {
  "kernelspec": {
   "display_name": "Python 3 (ipykernel)",
   "language": "python",
   "name": "python3"
  },
  "language_info": {
   "codemirror_mode": {
    "name": "ipython",
    "version": 3
   },
   "file_extension": ".py",
   "mimetype": "text/x-python",
   "name": "python",
   "nbconvert_exporter": "python",
   "pygments_lexer": "ipython3",
   "version": "3.10.6"
  }
 },
 "nbformat": 4,
 "nbformat_minor": 5
}
