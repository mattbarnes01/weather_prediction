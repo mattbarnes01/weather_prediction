{
 "cells": [
  {
   "cell_type": "code",
   "execution_count": 32,
   "id": "32c1fe8a-9be6-4f07-8a73-7abd98bb0d23",
   "metadata": {},
   "outputs": [],
   "source": [
    "import pandas as pd\n",
    "from sklearn.ensemble import RandomForestRegressor\n",
    "from ipynb.fs.full.walk_forward_validation_function import walk_forward_validation\n",
    "weather = pd.read_csv('final_clean_data.csv')\n",
    "predictors = weather.columns[~weather.columns.isin(['target', 'name', 'station', 'DATE'])]\n",
    "rfr = RandomForestRegressor(n_estimators = 75, max_depth = 8)\n",
    "predictions = walk_forward_validation(weather, rfr, predictors)\n"
   ]
  },
  {
   "cell_type": "code",
   "execution_count": 30,
   "id": "d5275376-93c4-44e0-91d1-6217a2e78df3",
   "metadata": {},
   "outputs": [],
   "source": [
    "mae = mean_absolute_error(predictions.actual, predictions.predicted)"
   ]
  },
  {
   "cell_type": "code",
   "execution_count": 35,
   "id": "2b676f04-ac3f-4e0e-988a-28f58969e849",
   "metadata": {},
   "outputs": [
    {
     "data": {
      "text/plain": [
       "4.944834550557991"
      ]
     },
     "execution_count": 35,
     "metadata": {},
     "output_type": "execute_result"
    }
   ],
   "source": [
    "mae"
   ]
  },
  {
   "cell_type": "code",
   "execution_count": null,
   "id": "5c547497-e5ca-4b80-b249-066754879428",
   "metadata": {},
   "outputs": [],
   "source": []
  }
 ],
 "metadata": {
  "kernelspec": {
   "display_name": "Python 3 (ipykernel)",
   "language": "python",
   "name": "python3"
  },
  "language_info": {
   "codemirror_mode": {
    "name": "ipython",
    "version": 3
   },
   "file_extension": ".py",
   "mimetype": "text/x-python",
   "name": "python",
   "nbconvert_exporter": "python",
   "pygments_lexer": "ipython3",
   "version": "3.10.6"
  }
 },
 "nbformat": 4,
 "nbformat_minor": 5
}
